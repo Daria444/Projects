{
 "cells": [
  {
   "cell_type": "markdown",
   "metadata": {},
   "source": [
    "---\n",
    "Моя реализация алгоритма Дейкстры\n",
    "\n",
    "---"
   ]
  },
  {
   "cell_type": "code",
   "execution_count": 1,
   "metadata": {},
   "outputs": [],
   "source": [
    "import numpy as np"
   ]
  },
  {
   "cell_type": "code",
   "execution_count": 180,
   "metadata": {},
   "outputs": [],
   "source": [
    "distances = {\n",
    "    '1': {'2': 7, '3': 9, '6': 14},\n",
    "    '2': {'1': 7, '3': 10, '4': 15},\n",
    "    '3': {'1': 9, '2': 10, '4': 11, '6': 2},\n",
    "    '4': {'2': 15, '3': 11, '5': 6},\n",
    "    '5': {'4': 6, '6': 9},\n",
    "    '6': {'1': 14, '3': 2, '5': 9}}\n",
    "\n",
    "start = 2\n",
    "finish = 5"
   ]
  },
  {
   "cell_type": "code",
   "execution_count": 181,
   "metadata": {},
   "outputs": [],
   "source": [
    "def find_route_path_Dijkstra(distances, start, finish):\n",
    "    nodes = tuple(distances.keys())\n",
    "    a = [0 for i in range(len(nodes))]\n",
    "    a[start-1] = 1\n",
    "\n",
    "    b = []\n",
    "    for i in nodes:\n",
    "        if i in distances[str(start)]:\n",
    "            b.append(distances[str(start)][i])\n",
    "        elif int(i) == start:\n",
    "            b.append(0)\n",
    "        else:\n",
    "            b.append(np.Inf)\n",
    "\n",
    "    c = [start for i in range(len(nodes))]\n",
    "\n",
    "    visited = [start]\n",
    "    while 0 in a:\n",
    "        lst = [x for x in b if x != 0 and b.index(x)+1 not in visited]\n",
    "        if len(lst) == 0:\n",
    "            break\n",
    "        else:\n",
    "            min_val = min(lst)\n",
    "            ind = b.index(min_val)\n",
    "            visited.append(ind + 1)\n",
    "            a[ind] = 1\n",
    "                    \n",
    "            for key, value in distances[nodes[ind]].items():\n",
    "                if a[int(key)-1] == 0 and b[ind] + value <= b[int(key)-1]:\n",
    "                    b[int(key)-1] = b[ind] + value\n",
    "                    c[int(key)-1] = ind + 1\n",
    "\n",
    "    # Восстановление пути\n",
    "    k = finish\n",
    "    way = [k]\n",
    "    while k != start:\n",
    "        way.append(c[k-1])\n",
    "        k = c[k-1]\n",
    "    way.reverse()\n",
    "\n",
    "    print(f'Длина кратчайшего пути из вершины {start} в вершину {finish} равна {b[finish-1]}')\n",
    "    print(f'Путь от вершины {start} к вершине {finish}:', ' –> '.join([str(i) for i in way]))\n"
   ]
  },
  {
   "cell_type": "code",
   "execution_count": 182,
   "metadata": {},
   "outputs": [
    {
     "name": "stdout",
     "output_type": "stream",
     "text": [
      "Длина кратчайшего пути из вершины 2 в вершину 5 равна 21\n",
      "Путь от вершины 2 к вершине 5: 2 –> 4 –> 5\n"
     ]
    }
   ],
   "source": [
    "find_route_path_Dijkstra(distances, start, finish)"
   ]
  },
  {
   "cell_type": "code",
   "execution_count": null,
   "metadata": {},
   "outputs": [],
   "source": []
  },
  {
   "cell_type": "code",
   "execution_count": null,
   "metadata": {},
   "outputs": [],
   "source": []
  },
  {
   "cell_type": "code",
   "execution_count": null,
   "metadata": {},
   "outputs": [],
   "source": []
  },
  {
   "cell_type": "code",
   "execution_count": null,
   "metadata": {},
   "outputs": [],
   "source": []
  },
  {
   "cell_type": "code",
   "execution_count": null,
   "metadata": {},
   "outputs": [],
   "source": []
  },
  {
   "cell_type": "code",
   "execution_count": null,
   "metadata": {},
   "outputs": [],
   "source": []
  },
  {
   "cell_type": "code",
   "execution_count": null,
   "metadata": {},
   "outputs": [],
   "source": []
  },
  {
   "cell_type": "markdown",
   "metadata": {},
   "source": [
    "---\n",
    "Реализация алгоритма Дейкстры из Интернета\n",
    "\n",
    "---"
   ]
  },
  {
   "cell_type": "code",
   "execution_count": 2,
   "metadata": {},
   "outputs": [
    {
     "name": "stdout",
     "output_type": "stream",
     "text": [
      "{'4': 0, '5': 6, '3': 11, '6': 13, '2': 15, '1': 20}\n"
     ]
    }
   ],
   "source": [
    "unvisited = {node: float('inf') for node in nodes} \n",
    "visited = {}\n",
    "current = '4'\n",
    "currentDistance = 0\n",
    "unvisited[current] = currentDistance\n",
    " \n",
    "while True:\n",
    "    for neighbour, distance in distances[current].items():\n",
    "        if neighbour not in unvisited: continue\n",
    "        newDistance = currentDistance + distance\n",
    "        if unvisited[neighbour] is float('inf') or unvisited[neighbour] > newDistance:\n",
    "            unvisited[neighbour] = newDistance\n",
    "    visited[current] = currentDistance\n",
    "    del unvisited[current]\n",
    "    if not unvisited:\n",
    "        break\n",
    "    candidates = [node for node in unvisited.items() if node[1]]\n",
    "    current, currentDistance = sorted(candidates, key = lambda x: x[1])[0]\n",
    " \n",
    "print(visited)"
   ]
  },
  {
   "cell_type": "code",
   "execution_count": null,
   "metadata": {},
   "outputs": [],
   "source": []
  },
  {
   "cell_type": "code",
   "execution_count": 8,
   "metadata": {},
   "outputs": [],
   "source": [
    "class Dijkstra:\n",
    "\n",
    "    def __init__(self, vertices, graph):\n",
    "        self.vertices = vertices  # (\"A\", \"B\", \"C\" ...)\n",
    "        self.graph = graph  # {\"A\": {\"B\": 1}, \"B\": {\"A\": 3, \"C\": 5} ...}\n",
    "\n",
    "    def find_route(self, start, end):\n",
    "        unvisited = {n: float(\"inf\") for n in self.vertices}\n",
    "        unvisited[start] = 0  # set start vertex to 0\n",
    "        visited = {}  # list of all visited nodes\n",
    "        parents = {}  # predecessors\n",
    "        while unvisited:\n",
    "            min_vertex = min(unvisited, key=unvisited.get)  # get smallest distance\n",
    "            for neighbour, _ in self.graph.get(min_vertex, {}).items():\n",
    "                if neighbour in visited:\n",
    "                    continue\n",
    "                new_distance = unvisited[min_vertex] + self.graph[min_vertex].get(neighbour, float(\"inf\"))\n",
    "                if new_distance < unvisited[neighbour]:\n",
    "                    unvisited[neighbour] = new_distance\n",
    "                    parents[neighbour] = min_vertex\n",
    "            visited[min_vertex] = unvisited[min_vertex]\n",
    "            unvisited.pop(min_vertex)\n",
    "            if min_vertex == end:\n",
    "                break\n",
    "        return parents, visited\n",
    "\n",
    "    @staticmethod\n",
    "    def generate_path(parents, start, end):\n",
    "        path = [end]\n",
    "        while True:\n",
    "            key = parents[path[0]]\n",
    "            path.insert(0, key)\n",
    "            if key == start:\n",
    "                break\n",
    "        return path"
   ]
  },
  {
   "cell_type": "code",
   "execution_count": 9,
   "metadata": {},
   "outputs": [
    {
     "name": "stdout",
     "output_type": "stream",
     "text": [
      "Distance from 4 to 1 is: 20.00\n",
      "Path from 4 to 1 is: 4 -> 3 -> 1\n"
     ]
    }
   ],
   "source": [
    "input_vertices = (\"1\", \"2\", \"3\", \"4\", \"5\", \"6\")\n",
    "input_graph = {\n",
    "    '1': {'2': 7, '3': 9, '6': 14},\n",
    "    '2': {'1': 7, '3': 10, '4': 15},\n",
    "    '3': {'1': 9, '2': 10, '4': 11, '6': 2},\n",
    "    '4': {'2': 15, '3': 11, '5': 6},\n",
    "    '5': {'4': 6, '6': 9},\n",
    "    '6': {'1': 14, '3': 2, '5': 9}\n",
    "    }\n",
    "start_vertex = \"4\"\n",
    "end_vertex= \"1\"\n",
    "dijkstra = Dijkstra(input_vertices, input_graph)\n",
    "p, v = dijkstra.find_route(start_vertex, end_vertex)\n",
    "print(\"Distance from %s to %s is: %.2f\" % (start_vertex, end_vertex, v[end_vertex]))\n",
    "se = dijkstra.generate_path(p, start_vertex, end_vertex)\n",
    "print(\"Path from %s to %s is: %s\" % (start_vertex, end_vertex, \" -> \".join(se)))"
   ]
  },
  {
   "cell_type": "code",
   "execution_count": null,
   "metadata": {},
   "outputs": [],
   "source": []
  },
  {
   "cell_type": "code",
   "execution_count": null,
   "metadata": {},
   "outputs": [],
   "source": []
  }
 ],
 "metadata": {
  "interpreter": {
   "hash": "34ef47f5af1e4651fc1752af826ecef864f55652a5e6a13d8d7a49fc5adff9bf"
  },
  "kernelspec": {
   "display_name": "Python 3.8.8 64-bit",
   "name": "python3"
  },
  "language_info": {
   "codemirror_mode": {
    "name": "ipython",
    "version": 3
   },
   "file_extension": ".py",
   "mimetype": "text/x-python",
   "name": "python",
   "nbconvert_exporter": "python",
   "pygments_lexer": "ipython3",
   "version": "3.8.8"
  },
  "orig_nbformat": 4
 },
 "nbformat": 4,
 "nbformat_minor": 2
}
