{
          "cells": [
                    {
                              "cell_type": "markdown",
                              "metadata": {},
                              "source": [
                                        "Импортируем необходимые библиотеки"
                              ]
                    },
                    {
                              "cell_type": "code",
                              "execution_count": 1,
                              "metadata": {},
                              "outputs": [],
                              "source": [
                                        "import numpy as np\n",
                                        "import pandas as pd\n",
                                        "import matplotlib.pyplot as plt\n",
                                        "import seaborn as sns\n",
                                        "from scipy.stats import mannwhitneyu, norm\n",
                                        "import warnings\n",
                                        "warnings.filterwarnings(\"ignore\")\n",
                                        "from tqdm.auto import tqdm\n",
                                        "import requests\n",
                                        "from urllib.parse import urlencode\n",
                                        "plt.style.use('ggplot')"
                              ]
                    },
                    {
                              "cell_type": "markdown",
                              "metadata": {},
                              "source": [
                                        "Подгружаем имеющиеся данные"
                              ]
                    },
                    {
                              "cell_type": "code",
                              "execution_count": 2,
                              "metadata": {},
                              "outputs": [],
                              "source": [
                                        "base_url = 'https://cloud-api.yandex.net/v1/disk/public/resources/download?'\n",
                                        "public_key = 'https://disk.yandex.ru/d/58Us0DWOzuWAjg' \n",
                                        "final_url = base_url + urlencode(dict(public_key=public_key))\n",
                                        "response = requests.get(final_url)\n",
                                        "download_url = response.json()['href']\n",
                                        "download_response = requests.get(download_url)\n",
                                        "with open('groups.csv', 'wb') as f:  \n",
                                        "    f.write(download_response.content)\n",
                                        "df1 = pd.read_csv('groups.csv', sep=';')"
                              ]
                    },
                    {
                              "cell_type": "code",
                              "execution_count": 3,
                              "metadata": {},
                              "outputs": [],
                              "source": [
                                        "base_url = 'https://cloud-api.yandex.net/v1/disk/public/resources/download?'\n",
                                        "public_key = 'https://disk.yandex.ru/d/3aARY-P9pfaksg' \n",
                                        "final_url = base_url + urlencode(dict(public_key=public_key))\n",
                                        "response = requests.get(final_url)\n",
                                        "download_url = response.json()['href']\n",
                                        "download_response = requests.get(download_url)\n",
                                        "with open('groups_add.csv', 'wb') as f: \n",
                                        "    f.write(download_response.content)\n",
                                        "df2 = pd.read_csv('groups_add.csv')"
                              ]
                    },
                    {
                              "cell_type": "code",
                              "execution_count": 4,
                              "metadata": {},
                              "outputs": [
                                        {
                                                  "data": {
                                                            "text/html": [
                                                                      "<div>\n",
                                                                      "<style scoped>\n",
                                                                      "    .dataframe tbody tr th:only-of-type {\n",
                                                                      "        vertical-align: middle;\n",
                                                                      "    }\n",
                                                                      "\n",
                                                                      "    .dataframe tbody tr th {\n",
                                                                      "        vertical-align: top;\n",
                                                                      "    }\n",
                                                                      "\n",
                                                                      "    .dataframe thead th {\n",
                                                                      "        text-align: right;\n",
                                                                      "    }\n",
                                                                      "</style>\n",
                                                                      "<table border=\"1\" class=\"dataframe\">\n",
                                                                      "  <thead>\n",
                                                                      "    <tr style=\"text-align: right;\">\n",
                                                                      "      <th></th>\n",
                                                                      "      <th>id</th>\n",
                                                                      "      <th>grp</th>\n",
                                                                      "    </tr>\n",
                                                                      "  </thead>\n",
                                                                      "  <tbody>\n",
                                                                      "    <tr>\n",
                                                                      "      <th>0</th>\n",
                                                                      "      <td>1489</td>\n",
                                                                      "      <td>B</td>\n",
                                                                      "    </tr>\n",
                                                                      "    <tr>\n",
                                                                      "      <th>1</th>\n",
                                                                      "      <td>1627</td>\n",
                                                                      "      <td>A</td>\n",
                                                                      "    </tr>\n",
                                                                      "    <tr>\n",
                                                                      "      <th>2</th>\n",
                                                                      "      <td>1768</td>\n",
                                                                      "      <td>B</td>\n",
                                                                      "    </tr>\n",
                                                                      "    <tr>\n",
                                                                      "      <th>3</th>\n",
                                                                      "      <td>1783</td>\n",
                                                                      "      <td>B</td>\n",
                                                                      "    </tr>\n",
                                                                      "    <tr>\n",
                                                                      "      <th>4</th>\n",
                                                                      "      <td>1794</td>\n",
                                                                      "      <td>A</td>\n",
                                                                      "    </tr>\n",
                                                                      "  </tbody>\n",
                                                                      "</table>\n",
                                                                      "</div>"
                                                            ],
                                                            "text/plain": [
                                                                      "     id grp\n",
                                                                      "0  1489   B\n",
                                                                      "1  1627   A\n",
                                                                      "2  1768   B\n",
                                                                      "3  1783   B\n",
                                                                      "4  1794   A"
                                                            ]
                                                  },
                                                  "execution_count": 4,
                                                  "metadata": {},
                                                  "output_type": "execute_result"
                                        }
                              ],
                              "source": [
                                        "df1.head()"
                              ]
                    },
                    {
                              "cell_type": "code",
                              "execution_count": 5,
                              "metadata": {},
                              "outputs": [
                                        {
                                                  "data": {
                                                            "text/plain": [
                                                                      "(74484, 2)"
                                                            ]
                                                  },
                                                  "execution_count": 5,
                                                  "metadata": {},
                                                  "output_type": "execute_result"
                                        }
                              ],
                              "source": [
                                        "df1.shape"
                              ]
                    },
                    {
                              "cell_type": "code",
                              "execution_count": 6,
                              "metadata": {},
                              "outputs": [
                                        {
                                                  "data": {
                                                            "text/html": [
                                                                      "<div>\n",
                                                                      "<style scoped>\n",
                                                                      "    .dataframe tbody tr th:only-of-type {\n",
                                                                      "        vertical-align: middle;\n",
                                                                      "    }\n",
                                                                      "\n",
                                                                      "    .dataframe tbody tr th {\n",
                                                                      "        vertical-align: top;\n",
                                                                      "    }\n",
                                                                      "\n",
                                                                      "    .dataframe thead th {\n",
                                                                      "        text-align: right;\n",
                                                                      "    }\n",
                                                                      "</style>\n",
                                                                      "<table border=\"1\" class=\"dataframe\">\n",
                                                                      "  <thead>\n",
                                                                      "    <tr style=\"text-align: right;\">\n",
                                                                      "      <th></th>\n",
                                                                      "      <th>id</th>\n",
                                                                      "      <th>grp</th>\n",
                                                                      "    </tr>\n",
                                                                      "  </thead>\n",
                                                                      "  <tbody>\n",
                                                                      "    <tr>\n",
                                                                      "      <th>0</th>\n",
                                                                      "      <td>5694584</td>\n",
                                                                      "      <td>B</td>\n",
                                                                      "    </tr>\n",
                                                                      "    <tr>\n",
                                                                      "      <th>1</th>\n",
                                                                      "      <td>5694830</td>\n",
                                                                      "      <td>B</td>\n",
                                                                      "    </tr>\n",
                                                                      "    <tr>\n",
                                                                      "      <th>2</th>\n",
                                                                      "      <td>5695057</td>\n",
                                                                      "      <td>B</td>\n",
                                                                      "    </tr>\n",
                                                                      "    <tr>\n",
                                                                      "      <th>3</th>\n",
                                                                      "      <td>5698872</td>\n",
                                                                      "      <td>B</td>\n",
                                                                      "    </tr>\n",
                                                                      "    <tr>\n",
                                                                      "      <th>4</th>\n",
                                                                      "      <td>5699067</td>\n",
                                                                      "      <td>B</td>\n",
                                                                      "    </tr>\n",
                                                                      "  </tbody>\n",
                                                                      "</table>\n",
                                                                      "</div>"
                                                            ],
                                                            "text/plain": [
                                                                      "        id grp\n",
                                                                      "0  5694584   B\n",
                                                                      "1  5694830   B\n",
                                                                      "2  5695057   B\n",
                                                                      "3  5698872   B\n",
                                                                      "4  5699067   B"
                                                            ]
                                                  },
                                                  "execution_count": 6,
                                                  "metadata": {},
                                                  "output_type": "execute_result"
                                        }
                              ],
                              "source": [
                                        "df2.head()"
                              ]
                    },
                    {
                              "cell_type": "code",
                              "execution_count": 7,
                              "metadata": {},
                              "outputs": [
                                        {
                                                  "data": {
                                                            "text/plain": [
                                                                      "(92, 2)"
                                                            ]
                                                  },
                                                  "execution_count": 7,
                                                  "metadata": {},
                                                  "output_type": "execute_result"
                                        }
                              ],
                              "source": [
                                        "df2.shape"
                              ]
                    },
                    {
                              "cell_type": "code",
                              "execution_count": 8,
                              "metadata": {},
                              "outputs": [],
                              "source": [
                                        "base_url = 'https://cloud-api.yandex.net/v1/disk/public/resources/download?'\n",
                                        "public_key = 'https://disk.yandex.ru/d/prbgU-rZpiXVYg' \n",
                                        "final_url = base_url + urlencode(dict(public_key=public_key))\n",
                                        "response = requests.get(final_url)\n",
                                        "download_url = response.json()['href']\n",
                                        "download_response = requests.get(download_url)\n",
                                        "with open('active_studs.csv', 'wb') as f:   \n",
                                        "    f.write(download_response.content)\n",
                                        "df3 = pd.read_csv('active_studs.csv')"
                              ]
                    },
                    {
                              "cell_type": "code",
                              "execution_count": 9,
                              "metadata": {},
                              "outputs": [
                                        {
                                                  "data": {
                                                            "text/html": [
                                                                      "<div>\n",
                                                                      "<style scoped>\n",
                                                                      "    .dataframe tbody tr th:only-of-type {\n",
                                                                      "        vertical-align: middle;\n",
                                                                      "    }\n",
                                                                      "\n",
                                                                      "    .dataframe tbody tr th {\n",
                                                                      "        vertical-align: top;\n",
                                                                      "    }\n",
                                                                      "\n",
                                                                      "    .dataframe thead th {\n",
                                                                      "        text-align: right;\n",
                                                                      "    }\n",
                                                                      "</style>\n",
                                                                      "<table border=\"1\" class=\"dataframe\">\n",
                                                                      "  <thead>\n",
                                                                      "    <tr style=\"text-align: right;\">\n",
                                                                      "      <th></th>\n",
                                                                      "      <th>student_id</th>\n",
                                                                      "    </tr>\n",
                                                                      "  </thead>\n",
                                                                      "  <tbody>\n",
                                                                      "    <tr>\n",
                                                                      "      <th>0</th>\n",
                                                                      "      <td>581585</td>\n",
                                                                      "    </tr>\n",
                                                                      "    <tr>\n",
                                                                      "      <th>1</th>\n",
                                                                      "      <td>5723133</td>\n",
                                                                      "    </tr>\n",
                                                                      "    <tr>\n",
                                                                      "      <th>2</th>\n",
                                                                      "      <td>3276743</td>\n",
                                                                      "    </tr>\n",
                                                                      "    <tr>\n",
                                                                      "      <th>3</th>\n",
                                                                      "      <td>4238589</td>\n",
                                                                      "    </tr>\n",
                                                                      "    <tr>\n",
                                                                      "      <th>4</th>\n",
                                                                      "      <td>4475369</td>\n",
                                                                      "    </tr>\n",
                                                                      "  </tbody>\n",
                                                                      "</table>\n",
                                                                      "</div>"
                                                            ],
                                                            "text/plain": [
                                                                      "   student_id\n",
                                                                      "0      581585\n",
                                                                      "1     5723133\n",
                                                                      "2     3276743\n",
                                                                      "3     4238589\n",
                                                                      "4     4475369"
                                                            ]
                                                  },
                                                  "execution_count": 9,
                                                  "metadata": {},
                                                  "output_type": "execute_result"
                                        }
                              ],
                              "source": [
                                        "df3.head()"
                              ]
                    },
                    {
                              "cell_type": "code",
                              "execution_count": 10,
                              "metadata": {},
                              "outputs": [
                                        {
                                                  "data": {
                                                            "text/plain": [
                                                                      "(8341, 1)"
                                                            ]
                                                  },
                                                  "execution_count": 10,
                                                  "metadata": {},
                                                  "output_type": "execute_result"
                                        }
                              ],
                              "source": [
                                        "df3.shape"
                              ]
                    },
                    {
                              "cell_type": "code",
                              "execution_count": 11,
                              "metadata": {},
                              "outputs": [],
                              "source": [
                                        "base_url = 'https://cloud-api.yandex.net/v1/disk/public/resources/download?'\n",
                                        "public_key = 'https://disk.yandex.ru/d/84hTmELphW2sqQ' \n",
                                        "final_url = base_url + urlencode(dict(public_key=public_key))\n",
                                        "response = requests.get(final_url)\n",
                                        "download_url = response.json()['href']\n",
                                        "download_response = requests.get(download_url)\n",
                                        "with open('checks.csv', 'wb') as f:   \n",
                                        "    f.write(download_response.content)\n",
                                        "df4 = pd.read_csv('checks.csv', sep=';')"
                              ]
                    },
                    {
                              "cell_type": "code",
                              "execution_count": 12,
                              "metadata": {},
                              "outputs": [
                                        {
                                                  "data": {
                                                            "text/html": [
                                                                      "<div>\n",
                                                                      "<style scoped>\n",
                                                                      "    .dataframe tbody tr th:only-of-type {\n",
                                                                      "        vertical-align: middle;\n",
                                                                      "    }\n",
                                                                      "\n",
                                                                      "    .dataframe tbody tr th {\n",
                                                                      "        vertical-align: top;\n",
                                                                      "    }\n",
                                                                      "\n",
                                                                      "    .dataframe thead th {\n",
                                                                      "        text-align: right;\n",
                                                                      "    }\n",
                                                                      "</style>\n",
                                                                      "<table border=\"1\" class=\"dataframe\">\n",
                                                                      "  <thead>\n",
                                                                      "    <tr style=\"text-align: right;\">\n",
                                                                      "      <th></th>\n",
                                                                      "      <th>student_id</th>\n",
                                                                      "      <th>rev</th>\n",
                                                                      "    </tr>\n",
                                                                      "  </thead>\n",
                                                                      "  <tbody>\n",
                                                                      "    <tr>\n",
                                                                      "      <th>0</th>\n",
                                                                      "      <td>1627</td>\n",
                                                                      "      <td>990.0</td>\n",
                                                                      "    </tr>\n",
                                                                      "    <tr>\n",
                                                                      "      <th>1</th>\n",
                                                                      "      <td>3185</td>\n",
                                                                      "      <td>690.0</td>\n",
                                                                      "    </tr>\n",
                                                                      "    <tr>\n",
                                                                      "      <th>2</th>\n",
                                                                      "      <td>25973</td>\n",
                                                                      "      <td>690.0</td>\n",
                                                                      "    </tr>\n",
                                                                      "    <tr>\n",
                                                                      "      <th>3</th>\n",
                                                                      "      <td>26280</td>\n",
                                                                      "      <td>690.0</td>\n",
                                                                      "    </tr>\n",
                                                                      "    <tr>\n",
                                                                      "      <th>4</th>\n",
                                                                      "      <td>100300</td>\n",
                                                                      "      <td>990.0</td>\n",
                                                                      "    </tr>\n",
                                                                      "  </tbody>\n",
                                                                      "</table>\n",
                                                                      "</div>"
                                                            ],
                                                            "text/plain": [
                                                                      "   student_id    rev\n",
                                                                      "0        1627  990.0\n",
                                                                      "1        3185  690.0\n",
                                                                      "2       25973  690.0\n",
                                                                      "3       26280  690.0\n",
                                                                      "4      100300  990.0"
                                                            ]
                                                  },
                                                  "execution_count": 12,
                                                  "metadata": {},
                                                  "output_type": "execute_result"
                                        }
                              ],
                              "source": [
                                        "df4.head()"
                              ]
                    },
                    {
                              "cell_type": "code",
                              "execution_count": 13,
                              "metadata": {},
                              "outputs": [
                                        {
                                                  "data": {
                                                            "text/plain": [
                                                                      "(541, 2)"
                                                            ]
                                                  },
                                                  "execution_count": 13,
                                                  "metadata": {},
                                                  "output_type": "execute_result"
                                        }
                              ],
                              "source": [
                                        "df4.shape"
                              ]
                    },
                    {
                              "cell_type": "markdown",
                              "metadata": {},
                              "source": [
                                        "Объединяем df1 и df2 (информацию о принадлежности пользователей к контрольной или экспериментальной группе)"
                              ]
                    },
                    {
                              "cell_type": "code",
                              "execution_count": 14,
                              "metadata": {},
                              "outputs": [],
                              "source": [
                                        "df = pd.concat([df1, df2], ignore_index=True)"
                              ]
                    },
                    {
                              "cell_type": "code",
                              "execution_count": 15,
                              "metadata": {},
                              "outputs": [
                                        {
                                                  "data": {
                                                            "text/plain": [
                                                                      "(74576, 2)"
                                                            ]
                                                  },
                                                  "execution_count": 15,
                                                  "metadata": {},
                                                  "output_type": "execute_result"
                                        }
                              ],
                              "source": [
                                        "df.shape"
                              ]
                    },
                    {
                              "cell_type": "code",
                              "execution_count": 16,
                              "metadata": {},
                              "outputs": [
                                        {
                                                  "data": {
                                                            "text/plain": [
                                                                      "(74576, 2)"
                                                            ]
                                                  },
                                                  "execution_count": 16,
                                                  "metadata": {},
                                                  "output_type": "execute_result"
                                        }
                              ],
                              "source": [
                                        "df.shape"
                              ]
                    },
                    {
                              "cell_type": "code",
                              "execution_count": 17,
                              "metadata": {},
                              "outputs": [
                                        {
                                                  "data": {
                                                            "text/plain": [
                                                                      "<AxesSubplot:>"
                                                            ]
                                                  },
                                                  "execution_count": 17,
                                                  "metadata": {},
                                                  "output_type": "execute_result"
                                        },
                                        {
                                                  "data": {
                                                            "image/png": "[encoded data removed]",
                                                            "text/plain": [
                                                                      "<Figure size 432x288 with 1 Axes>"
                                                            ]
                                                  },
                                                  "metadata": {},
                                                  "output_type": "display_data"
                                        }
                              ],
                              "source": [
                                        "df.grp.value_counts().plot(kind='bar')"
                              ]
                    },
                    {
                              "cell_type": "code",
                              "execution_count": 18,
                              "metadata": {},
                              "outputs": [
                                        {
                                                  "data": {
                                                            "text/plain": [
                                                                      "B    80.297951\n",
                                                                      "A    19.702049\n",
                                                                      "Name: grp, dtype: float64"
                                                            ]
                                                  },
                                                  "execution_count": 18,
                                                  "metadata": {},
                                                  "output_type": "execute_result"
                                        }
                              ],
                              "source": [
                                        "df.grp.value_counts(normalize=True) * 100"
                              ]
                    },
                    {
                              "cell_type": "markdown",
                              "metadata": {},
                              "source": [
                                        "Контрольная и целевая группы пользователей не сбалансированы. В контрольную группу отнесены 20% пользователей, в целевой группе оказались 80% пользователей."
                              ]
                    },
                    {
                              "cell_type": "markdown",
                              "metadata": {},
                              "source": [
                                        "Помечаем тех пользователей, которые зашли на платформу в дни проведения эксперимента "
                              ]
                    },
                    {
                              "cell_type": "code",
                              "execution_count": 19,
                              "metadata": {},
                              "outputs": [],
                              "source": [
                                        "lst_st_id = df3.student_id.to_list()"
                              ]
                    },
                    {
                              "cell_type": "code",
                              "execution_count": 20,
                              "metadata": {},
                              "outputs": [
                                        {
                                                  "data": {
                                                            "text/plain": [
                                                                      "8341"
                                                            ]
                                                  },
                                                  "execution_count": 20,
                                                  "metadata": {},
                                                  "output_type": "execute_result"
                                        }
                              ],
                              "source": [
                                        "len(lst_st_id)"
                              ]
                    },
                    {
                              "cell_type": "code",
                              "execution_count": 21,
                              "metadata": {},
                              "outputs": [],
                              "source": [
                                        "df_add = df.query('id in @lst_st_id')\n",
                                        "df_add['participant'] = 1"
                              ]
                    },
                    {
                              "cell_type": "code",
                              "execution_count": 22,
                              "metadata": {},
                              "outputs": [],
                              "source": [
                                        "df = df_add.merge(df, how='right', on=['id', 'grp']).fillna(0).astype({'participant': 'int'})"
                              ]
                    },
                    {
                              "cell_type": "markdown",
                              "metadata": {},
                              "source": [
                                        "A – контроль (те пользователи, у которых осталась базовая механика оплаты услуг на сайте),\n",
                                        "B – целевая группа (те пользователи, которым была предложена новая механика оптаты услуг на сайте)"
                              ]
                    },
                    {
                              "cell_type": "code",
                              "execution_count": 23,
                              "metadata": {},
                              "outputs": [
                                        {
                                                  "data": {
                                                            "text/plain": [
                                                                      "B    6803\n",
                                                                      "A    1538\n",
                                                                      "Name: grp, dtype: int64"
                                                            ]
                                                  },
                                                  "execution_count": 23,
                                                  "metadata": {},
                                                  "output_type": "execute_result"
                                        }
                              ],
                              "source": [
                                        "df.query('participant == 1').grp.value_counts()"
                              ]
                    },
                    {
                              "cell_type": "code",
                              "execution_count": 24,
                              "metadata": {},
                              "outputs": [
                                        {
                                                  "data": {
                                                            "text/plain": [
                                                                      "0    88.815437\n",
                                                                      "1    11.184563\n",
                                                                      "Name: participant, dtype: float64"
                                                            ]
                                                  },
                                                  "execution_count": 24,
                                                  "metadata": {},
                                                  "output_type": "execute_result"
                                        }
                              ],
                              "source": [
                                        "df.participant.value_counts(normalize=True) * 100"
                              ]
                    },
                    {
                              "cell_type": "markdown",
                              "metadata": {},
                              "source": [
                                        "В дни проведения эксперимента только 11% пользователей зашли на платформу."
                              ]
                    },
                    {
                              "cell_type": "markdown",
                              "metadata": {},
                              "source": [
                                        "Добавляем в df информацию об оплатах пользователей в дни проведения эксперимента"
                              ]
                    },
                    {
                              "cell_type": "code",
                              "execution_count": 25,
                              "metadata": {},
                              "outputs": [],
                              "source": [
                                        "df4.rename(columns={'student_id': 'id'}, inplace=True)"
                              ]
                    },
                    {
                              "cell_type": "code",
                              "execution_count": 26,
                              "metadata": {},
                              "outputs": [],
                              "source": [
                                        "df = df.merge(df4, how='left', on='id')"
                              ]
                    },
                    {
                              "cell_type": "code",
                              "execution_count": 27,
                              "metadata": {},
                              "outputs": [],
                              "source": [
                                        "df.fillna(0, inplace=True)"
                              ]
                    },
                    {
                              "cell_type": "code",
                              "execution_count": 28,
                              "metadata": {},
                              "outputs": [
                                        {
                                                  "data": {
                                                            "text/html": [
                                                                      "<div>\n",
                                                                      "<style scoped>\n",
                                                                      "    .dataframe tbody tr th:only-of-type {\n",
                                                                      "        vertical-align: middle;\n",
                                                                      "    }\n",
                                                                      "\n",
                                                                      "    .dataframe tbody tr th {\n",
                                                                      "        vertical-align: top;\n",
                                                                      "    }\n",
                                                                      "\n",
                                                                      "    .dataframe thead th {\n",
                                                                      "        text-align: right;\n",
                                                                      "    }\n",
                                                                      "</style>\n",
                                                                      "<table border=\"1\" class=\"dataframe\">\n",
                                                                      "  <thead>\n",
                                                                      "    <tr style=\"text-align: right;\">\n",
                                                                      "      <th></th>\n",
                                                                      "      <th>id</th>\n",
                                                                      "      <th>grp</th>\n",
                                                                      "      <th>participant</th>\n",
                                                                      "      <th>rev</th>\n",
                                                                      "    </tr>\n",
                                                                      "  </thead>\n",
                                                                      "  <tbody>\n",
                                                                      "    <tr>\n",
                                                                      "      <th>0</th>\n",
                                                                      "      <td>1489</td>\n",
                                                                      "      <td>B</td>\n",
                                                                      "      <td>0</td>\n",
                                                                      "      <td>0.0</td>\n",
                                                                      "    </tr>\n",
                                                                      "    <tr>\n",
                                                                      "      <th>1</th>\n",
                                                                      "      <td>1627</td>\n",
                                                                      "      <td>A</td>\n",
                                                                      "      <td>1</td>\n",
                                                                      "      <td>990.0</td>\n",
                                                                      "    </tr>\n",
                                                                      "    <tr>\n",
                                                                      "      <th>2</th>\n",
                                                                      "      <td>1768</td>\n",
                                                                      "      <td>B</td>\n",
                                                                      "      <td>0</td>\n",
                                                                      "      <td>0.0</td>\n",
                                                                      "    </tr>\n",
                                                                      "    <tr>\n",
                                                                      "      <th>3</th>\n",
                                                                      "      <td>1783</td>\n",
                                                                      "      <td>B</td>\n",
                                                                      "      <td>0</td>\n",
                                                                      "      <td>0.0</td>\n",
                                                                      "    </tr>\n",
                                                                      "    <tr>\n",
                                                                      "      <th>4</th>\n",
                                                                      "      <td>1794</td>\n",
                                                                      "      <td>A</td>\n",
                                                                      "      <td>0</td>\n",
                                                                      "      <td>0.0</td>\n",
                                                                      "    </tr>\n",
                                                                      "  </tbody>\n",
                                                                      "</table>\n",
                                                                      "</div>"
                                                            ],
                                                            "text/plain": [
                                                                      "     id grp  participant    rev\n",
                                                                      "0  1489   B            0    0.0\n",
                                                                      "1  1627   A            1  990.0\n",
                                                                      "2  1768   B            0    0.0\n",
                                                                      "3  1783   B            0    0.0\n",
                                                                      "4  1794   A            0    0.0"
                                                            ]
                                                  },
                                                  "execution_count": 28,
                                                  "metadata": {},
                                                  "output_type": "execute_result"
                                        }
                              ],
                              "source": [
                                        "df.head()"
                              ]
                    },
                    {
                              "cell_type": "code",
                              "execution_count": 29,
                              "metadata": {},
                              "outputs": [
                                        {
                                                  "data": {
                                                            "text/plain": [
                                                                      "4.699676297806018"
                                                            ]
                                                  },
                                                  "execution_count": 29,
                                                  "metadata": {},
                                                  "output_type": "execute_result"
                                        }
                              ],
                              "source": [
                                        "df[(df.rev > 0) & (df.participant == 1)].shape[0] / df[df.participant == 1].shape[0] * 100"
                              ]
                    },
                    {
                              "cell_type": "markdown",
                              "metadata": {},
                              "source": [
                                        "Только 5% из тех пользователей, которые посетили платформу в дни проведения эксперимента, совершили оплату."
                              ]
                    },
                    {
                              "cell_type": "markdown",
                              "metadata": {},
                              "source": [
                                        "В ходе анализа будем смотреть на следующие метрики:\n",
                                        "1. Средний доход от оплат услуг пользователями, поскольку данная метрика здесь является целевой, именно она по большей части отражает, насколько эффективна новая механика оплаты услуг на сайте.\n",
                                        "2. Доля платящих пользователей, с помощью данной метрики сравним, увеличилась ли в тестовой группе доля тех пользователей, которые пользуются оплатой услуг, по сравнению с аналогичным показателем по контрольной группе.\n",
                                        "3. ARPPU – средний доход на платящего пользователя, поскольку базовая механика оплаты услуг на сайте могла быть сложна для понимания и неочень удобна пользователям, и как следствие, они могли быть не положительно настроены на покупку, и как следствие, совершать покупки в меньшем объеме, чем при использовании новой механики оплаты."
                              ]
                    },
                    {
                              "cell_type": "markdown",
                              "metadata": {},
                              "source": [
                                        "1. Средний доход от оплат услуг пользователями"
                              ]
                    },
                    {
                              "cell_type": "markdown",
                              "metadata": {},
                              "source": [
                                        "– группа A (контрольная)"
                              ]
                    },
                    {
                              "cell_type": "code",
                              "execution_count": 30,
                              "metadata": {},
                              "outputs": [
                                        {
                                                  "data": {
                                                            "text/plain": [
                                                                      "6.268018784455183"
                                                            ]
                                                  },
                                                  "execution_count": 30,
                                                  "metadata": {},
                                                  "output_type": "execute_result"
                                        }
                              ],
                              "source": [
                                        "df[df.grp == 'A']['rev'].mean()"
                              ]
                    },
                    {
                              "cell_type": "markdown",
                              "metadata": {},
                              "source": [
                                        "– группа B (тестовая)"
                              ]
                    },
                    {
                              "cell_type": "code",
                              "execution_count": 31,
                              "metadata": {},
                              "outputs": [
                                        {
                                                  "data": {
                                                            "text/plain": [
                                                                      "8.03617059265568"
                                                            ]
                                                  },
                                                  "execution_count": 31,
                                                  "metadata": {},
                                                  "output_type": "execute_result"
                                        }
                              ],
                              "source": [
                                        "df[df.grp == 'B']['rev'].mean()"
                              ]
                    },
                    {
                              "cell_type": "markdown",
                              "metadata": {},
                              "source": [
                                        "Итак, средний доход от оплат услуг пользователями, для которых была предложена новая механика оплаты услуг на сайте, выше, чем аналогичный показатель по пользователям, использовавшим старую механику оплаты услуг.\n",
                                        "Такое различие в значениях показателя действительно может быть связано с более высокой степенью удобства новой механики для пользователей.\n",
                                        "Однако, только этой информации недостаточно для принятия решения о запуске новой механики на всех пользователей. Посмотрим на другие показатели."
                              ]
                    },
                    {
                              "cell_type": "markdown",
                              "metadata": {},
                              "source": [
                                        "2. Доля платящих пользователей"
                              ]
                    },
                    {
                              "cell_type": "markdown",
                              "metadata": {},
                              "source": [
                                        "– группа A (контрольная)"
                              ]
                    },
                    {
                              "cell_type": "code",
                              "execution_count": 32,
                              "metadata": {},
                              "outputs": [
                                        {
                                                  "data": {
                                                            "text/plain": [
                                                                      "0.7282379364323147"
                                                            ]
                                                  },
                                                  "execution_count": 32,
                                                  "metadata": {},
                                                  "output_type": "execute_result"
                                        }
                              ],
                              "source": [
                                        "df[(df.grp == 'A') & (df.rev > 0)].shape[0] / df[df.grp == 'A'].shape[0] * 100"
                              ]
                    },
                    {
                              "cell_type": "markdown",
                              "metadata": {},
                              "source": [
                                        "– группа B (тестовая)"
                              ]
                    },
                    {
                              "cell_type": "code",
                              "execution_count": 33,
                              "metadata": {},
                              "outputs": [
                                        {
                                                  "data": {
                                                            "text/plain": [
                                                                      "0.7247465891822387"
                                                            ]
                                                  },
                                                  "execution_count": 33,
                                                  "metadata": {},
                                                  "output_type": "execute_result"
                                        }
                              ],
                              "source": [
                                        "df[(df.grp == 'B') & (df.rev > 0)].shape[0] / df[df.grp == 'B'].shape[0] * 100"
                              ]
                    },
                    {
                              "cell_type": "markdown",
                              "metadata": {},
                              "source": [
                                        "Итак, доля платящих пользователей в контрольной группе оказалась немного выше, чем в целевой.\n",
                                        "Однако, также стоит сравнить и средний доход на платящего пользователя по исследуемым группам."
                              ]
                    },
                    {
                              "cell_type": "markdown",
                              "metadata": {},
                              "source": [
                                        "3. ARPPU – средний доход на платящего пользователя"
                              ]
                    },
                    {
                              "cell_type": "markdown",
                              "metadata": {},
                              "source": [
                                        "– группа A (контрольная)"
                              ]
                    },
                    {
                              "cell_type": "code",
                              "execution_count": 34,
                              "metadata": {},
                              "outputs": [
                                        {
                                                  "data": {
                                                            "text/plain": [
                                                                      "860.7102803738318"
                                                            ]
                                                  },
                                                  "execution_count": 34,
                                                  "metadata": {},
                                                  "output_type": "execute_result"
                                        }
                              ],
                              "source": [
                                        "df[(df.grp == 'A') & (df.rev > 0)]['rev'].mean()"
                              ]
                    },
                    {
                              "cell_type": "markdown",
                              "metadata": {},
                              "source": [
                                        "– группа B (тестовая)"
                              ]
                    },
                    {
                              "cell_type": "code",
                              "execution_count": 35,
                              "metadata": {},
                              "outputs": [
                                        {
                                                  "data": {
                                                            "text/plain": [
                                                                      "1108.8248930875575"
                                                            ]
                                                  },
                                                  "execution_count": 35,
                                                  "metadata": {},
                                                  "output_type": "execute_result"
                                        }
                              ],
                              "source": [
                                        "df[(df.grp == 'B') & (df.rev > 0)]['rev'].mean()"
                              ]
                    },
                    {
                              "cell_type": "markdown",
                              "metadata": {},
                              "source": [
                                        "Здесь видим, что средний доход на платящего пользователя по целевой группе значительно выше, чем по контрольной группе. \n",
                                        "Проведем A/B тестирование, чтобы убедиться, что найденные различия значимы."
                              ]
                    },
                    {
                              "cell_type": "markdown",
                              "metadata": {},
                              "source": [
                                        "В отдельный датафрейм отберем тех пользователей, которые являлись участниками эксперимента и которые совершили целевое действие, т.е. произвели оплату услуг."
                              ]
                    },
                    {
                              "cell_type": "markdown",
                              "metadata": {},
                              "source": [
                                        "Обоснование взятия ARPPU в качестве целевой метрики:\n",
                                        "\n",
                                        "Поскольку была рассчитана доля платящих пользователей (CR), как отношение количества пользователей, совершивших целевое действие, т.е. покупку, к количеству всех посетителей сайта, которая показала незначимое отличие по группам A и B (в группе A данный показатель немного выше.)\n",
                                        "Таким образом, мы можем исключить ситуацию, когда CR значительно проседает на фоне растущей выручки.\n",
                                        "Поэтому в качестве целевой метрики выберем ARPPU.\n",
                                        "\n"
                              ]
                    },
                    {
                              "cell_type": "code",
                              "execution_count": 36,
                              "metadata": {},
                              "outputs": [],
                              "source": [
                                        "df_part = df.query('rev > 0')"
                              ]
                    },
                    {
                              "cell_type": "code",
                              "execution_count": 37,
                              "metadata": {},
                              "outputs": [
                                        {
                                                  "data": {
                                                            "text/html": [
                                                                      "<div>\n",
                                                                      "<style scoped>\n",
                                                                      "    .dataframe tbody tr th:only-of-type {\n",
                                                                      "        vertical-align: middle;\n",
                                                                      "    }\n",
                                                                      "\n",
                                                                      "    .dataframe tbody tr th {\n",
                                                                      "        vertical-align: top;\n",
                                                                      "    }\n",
                                                                      "\n",
                                                                      "    .dataframe thead th {\n",
                                                                      "        text-align: right;\n",
                                                                      "    }\n",
                                                                      "</style>\n",
                                                                      "<table border=\"1\" class=\"dataframe\">\n",
                                                                      "  <thead>\n",
                                                                      "    <tr style=\"text-align: right;\">\n",
                                                                      "      <th></th>\n",
                                                                      "      <th>id</th>\n",
                                                                      "      <th>grp</th>\n",
                                                                      "      <th>participant</th>\n",
                                                                      "      <th>rev</th>\n",
                                                                      "    </tr>\n",
                                                                      "  </thead>\n",
                                                                      "  <tbody>\n",
                                                                      "    <tr>\n",
                                                                      "      <th>1</th>\n",
                                                                      "      <td>1627</td>\n",
                                                                      "      <td>A</td>\n",
                                                                      "      <td>1</td>\n",
                                                                      "      <td>990.0</td>\n",
                                                                      "    </tr>\n",
                                                                      "    <tr>\n",
                                                                      "      <th>39</th>\n",
                                                                      "      <td>3185</td>\n",
                                                                      "      <td>B</td>\n",
                                                                      "      <td>0</td>\n",
                                                                      "      <td>690.0</td>\n",
                                                                      "    </tr>\n",
                                                                      "    <tr>\n",
                                                                      "      <th>121</th>\n",
                                                                      "      <td>25973</td>\n",
                                                                      "      <td>B</td>\n",
                                                                      "      <td>0</td>\n",
                                                                      "      <td>690.0</td>\n",
                                                                      "    </tr>\n",
                                                                      "    <tr>\n",
                                                                      "      <th>125</th>\n",
                                                                      "      <td>26280</td>\n",
                                                                      "      <td>B</td>\n",
                                                                      "      <td>0</td>\n",
                                                                      "      <td>690.0</td>\n",
                                                                      "    </tr>\n",
                                                                      "    <tr>\n",
                                                                      "      <th>220</th>\n",
                                                                      "      <td>100300</td>\n",
                                                                      "      <td>B</td>\n",
                                                                      "      <td>1</td>\n",
                                                                      "      <td>990.0</td>\n",
                                                                      "    </tr>\n",
                                                                      "    <tr>\n",
                                                                      "      <th>...</th>\n",
                                                                      "      <td>...</td>\n",
                                                                      "      <td>...</td>\n",
                                                                      "      <td>...</td>\n",
                                                                      "      <td>...</td>\n",
                                                                      "    </tr>\n",
                                                                      "    <tr>\n",
                                                                      "      <th>74365</th>\n",
                                                                      "      <td>5645737</td>\n",
                                                                      "      <td>B</td>\n",
                                                                      "      <td>1</td>\n",
                                                                      "      <td>1900.0</td>\n",
                                                                      "    </tr>\n",
                                                                      "    <tr>\n",
                                                                      "      <th>74381</th>\n",
                                                                      "      <td>5651566</td>\n",
                                                                      "      <td>B</td>\n",
                                                                      "      <td>1</td>\n",
                                                                      "      <td>1900.0</td>\n",
                                                                      "    </tr>\n",
                                                                      "    <tr>\n",
                                                                      "      <th>74402</th>\n",
                                                                      "      <td>5662322</td>\n",
                                                                      "      <td>B</td>\n",
                                                                      "      <td>1</td>\n",
                                                                      "      <td>1900.0</td>\n",
                                                                      "    </tr>\n",
                                                                      "    <tr>\n",
                                                                      "      <th>74452</th>\n",
                                                                      "      <td>5681918</td>\n",
                                                                      "      <td>B</td>\n",
                                                                      "      <td>1</td>\n",
                                                                      "      <td>1900.0</td>\n",
                                                                      "    </tr>\n",
                                                                      "    <tr>\n",
                                                                      "      <th>74539</th>\n",
                                                                      "      <td>5740903</td>\n",
                                                                      "      <td>B</td>\n",
                                                                      "      <td>1</td>\n",
                                                                      "      <td>1900.0</td>\n",
                                                                      "    </tr>\n",
                                                                      "  </tbody>\n",
                                                                      "</table>\n",
                                                                      "<p>541 rows × 4 columns</p>\n",
                                                                      "</div>"
                                                            ],
                                                            "text/plain": [
                                                                      "            id grp  participant     rev\n",
                                                                      "1         1627   A            1   990.0\n",
                                                                      "39        3185   B            0   690.0\n",
                                                                      "121      25973   B            0   690.0\n",
                                                                      "125      26280   B            0   690.0\n",
                                                                      "220     100300   B            1   990.0\n",
                                                                      "...        ...  ..          ...     ...\n",
                                                                      "74365  5645737   B            1  1900.0\n",
                                                                      "74381  5651566   B            1  1900.0\n",
                                                                      "74402  5662322   B            1  1900.0\n",
                                                                      "74452  5681918   B            1  1900.0\n",
                                                                      "74539  5740903   B            1  1900.0\n",
                                                                      "\n",
                                                                      "[541 rows x 4 columns]"
                                                            ]
                                                  },
                                                  "execution_count": 37,
                                                  "metadata": {},
                                                  "output_type": "execute_result"
                                        }
                              ],
                              "source": [
                                        "df_part"
                              ]
                    },
                    {
                              "cell_type": "code",
                              "execution_count": 38,
                              "metadata": {},
                              "outputs": [
                                        {
                                                  "data": {
                                                            "text/plain": [
                                                                      "<AxesSubplot:>"
                                                            ]
                                                  },
                                                  "execution_count": 38,
                                                  "metadata": {},
                                                  "output_type": "execute_result"
                                        },
                                        {
                                                  "data": {
                                                            "image/png": "[encoded data removed]",
                                                            "text/plain": [
                                                                      "<Figure size 432x288 with 1 Axes>"
                                                            ]
                                                  },
                                                  "metadata": {},
                                                  "output_type": "display_data"
                                        }
                              ],
                              "source": [
                                        "df_part.rev.hist()"
                              ]
                    },
                    {
                              "cell_type": "markdown",
                              "metadata": {},
                              "source": [
                                        "Посмотрим на распределение дохода от оплат услуг пользователями для тестовой и целевой групп"
                              ]
                    },
                    {
                              "cell_type": "code",
                              "execution_count": 39,
                              "metadata": {},
                              "outputs": [
                                        {
                                                  "data": {
                                                            "text/plain": [
                                                                      "<AxesSubplot:>"
                                                            ]
                                                  },
                                                  "execution_count": 39,
                                                  "metadata": {},
                                                  "output_type": "execute_result"
                                        },
                                        {
                                                  "data": {
                                                            "image/png": "[encoded data removed]",
                                                            "text/plain": [
                                                                      "<Figure size 432x288 with 1 Axes>"
                                                            ]
                                                  },
                                                  "metadata": {},
                                                  "output_type": "display_data"
                                        }
                              ],
                              "source": [
                                        "df_part[df_part.grp == 'A']['rev'].hist()"
                              ]
                    },
                    {
                              "cell_type": "code",
                              "execution_count": 40,
                              "metadata": {},
                              "outputs": [
                                        {
                                                  "data": {
                                                            "text/plain": [
                                                                      "<AxesSubplot:>"
                                                            ]
                                                  },
                                                  "execution_count": 40,
                                                  "metadata": {},
                                                  "output_type": "execute_result"
                                        },
                                        {
                                                  "data": {
                                                            "image/png": "[encoded data removed]",
                                                            "text/plain": [
                                                                      "<Figure size 432x288 with 1 Axes>"
                                                            ]
                                                  },
                                                  "metadata": {},
                                                  "output_type": "display_data"
                                        }
                              ],
                              "source": [
                                        "df_part[df_part.grp == 'B']['rev'].hist()"
                              ]
                    },
                    {
                              "cell_type": "markdown",
                              "metadata": {},
                              "source": [
                                        "Для обеих групп пользователей вид распределения дохода далеко от симметричного, в обоих случаях оно скошенно вправо, и, кроме того, наблюдаются выбросы, поэтому на средние значения доходов ориентироваться не стоит, нужно смотреть на медиану."
                              ]
                    },
                    {
                              "cell_type": "code",
                              "execution_count": 41,
                              "metadata": {},
                              "outputs": [
                                        {
                                                  "data": {
                                                            "text/html": [
                                                                      "<div>\n",
                                                                      "<style scoped>\n",
                                                                      "    .dataframe tbody tr th:only-of-type {\n",
                                                                      "        vertical-align: middle;\n",
                                                                      "    }\n",
                                                                      "\n",
                                                                      "    .dataframe tbody tr th {\n",
                                                                      "        vertical-align: top;\n",
                                                                      "    }\n",
                                                                      "\n",
                                                                      "    .dataframe thead th {\n",
                                                                      "        text-align: right;\n",
                                                                      "    }\n",
                                                                      "</style>\n",
                                                                      "<table border=\"1\" class=\"dataframe\">\n",
                                                                      "  <thead>\n",
                                                                      "    <tr style=\"text-align: right;\">\n",
                                                                      "      <th></th>\n",
                                                                      "      <th>value</th>\n",
                                                                      "    </tr>\n",
                                                                      "  </thead>\n",
                                                                      "  <tbody>\n",
                                                                      "    <tr>\n",
                                                                      "      <th>mean A</th>\n",
                                                                      "      <td>860.710280</td>\n",
                                                                      "    </tr>\n",
                                                                      "    <tr>\n",
                                                                      "      <th>mean B</th>\n",
                                                                      "      <td>1108.824893</td>\n",
                                                                      "    </tr>\n",
                                                                      "    <tr>\n",
                                                                      "      <th>median A</th>\n",
                                                                      "      <td>690.000000</td>\n",
                                                                      "    </tr>\n",
                                                                      "    <tr>\n",
                                                                      "      <th>median B</th>\n",
                                                                      "      <td>935.000000</td>\n",
                                                                      "    </tr>\n",
                                                                      "  </tbody>\n",
                                                                      "</table>\n",
                                                                      "</div>"
                                                            ],
                                                            "text/plain": [
                                                                      "                value\n",
                                                                      "mean A     860.710280\n",
                                                                      "mean B    1108.824893\n",
                                                                      "median A   690.000000\n",
                                                                      "median B   935.000000"
                                                            ]
                                                  },
                                                  "execution_count": 41,
                                                  "metadata": {},
                                                  "output_type": "execute_result"
                                        }
                              ],
                              "source": [
                                        "pd.DataFrame.from_dict({'mean A': df_part.query('grp == \"A\"').rev.mean(),\n",
                                        "                        'mean B': df_part.query('grp == \"B\"').rev.mean(),\n",
                                        "                        'median A': df_part.query('grp == \"A\"').rev.median(),\n",
                                        "                        'median B': df_part.query('grp == \"B\"').rev.median()},\n",
                                        "                       orient='index').rename({0: 'value'}, axis=1)"
                              ]
                    },
                    {
                              "cell_type": "markdown",
                              "metadata": {},
                              "source": [
                                        "Итак, в целом, можно заметить, что и средние, и медианы достаточно сильно отличаются по группам пользователей – для обоих показателей значения в целевой группе (группе B), пользователям которой была предложена новая механика оплаты услуг на сайте, выше. Теперь необходимо понять, значимы ли эти различия.  "
                              ]
                    },
                    {
                              "cell_type": "markdown",
                              "metadata": {},
                              "source": [
                                        "По построенным графикам можно сделать весьма очевидный вывод, что рапределение доходов от оплат услуг ползователями не нормально, поэтому для проверки статистических гипотез используем критерий Краскела-Уоллиса.\n",
                                        "Проверку гипотез будем осуществлять на уровне значимости 0,05."
                              ]
                    },
                    {
                              "cell_type": "code",
                              "execution_count": 42,
                              "metadata": {},
                              "outputs": [
                                        {
                                                  "data": {
                                                            "text/plain": [
                                                                      "9.658027498190076e-05"
                                                            ]
                                                  },
                                                  "execution_count": 42,
                                                  "metadata": {},
                                                  "output_type": "execute_result"
                                        }
                              ],
                              "source": [
                                        "mannwhitneyu(df_part[df_part.grp == \"A\"]['rev'], df_part[df_part.grp == \"B\"]['rev'])[1]"
                              ]
                    },
                    {
                              "cell_type": "markdown",
                              "metadata": {},
                              "source": [
                                        "Таким образом, разница в доходах, полученных от оплаты услуг пользователями из группы А и из группы В, есть (p-value < 0.05 => H0 о незначимости различий отвергается). "
                              ]
                    },
                    {
                              "cell_type": "markdown",
                              "metadata": {},
                              "source": [
                                        "Для применения бустрапа разделим общую совокупность наблюдений на две части – control (группа A) и test (группа B)."
                              ]
                    },
                    {
                              "cell_type": "code",
                              "execution_count": 43,
                              "metadata": {},
                              "outputs": [],
                              "source": [
                                        "df_test = df_part.query('grp == \"B\"')[['rev']]\n",
                                        "df_control = df_part.query('grp == \"A\"')[['rev']]"
                              ]
                    },
                    {
                              "cell_type": "markdown",
                              "metadata": {},
                              "source": [
                                        "Применим бутстрап (с np.mean) и критерий mann-whitney, а потом сравним p-value"
                              ]
                    },
                    {
                              "cell_type": "code",
                              "execution_count": 44,
                              "metadata": {},
                              "outputs": [
                                        {
                                                  "name": "stderr",
                                                  "output_type": "stream",
                                                  "text": [
                                                            "100%|██████████| 2000/2000 [00:00<00:00, 5310.29it/s]\n"
                                                  ]
                                        },
                                        {
                                                  "data": {
                                                            "image/png": "[encoded data removed]",
                                                            "text/plain": [
                                                                      "<Figure size 432x288 with 1 Axes>"
                                                            ]
                                                  },
                                                  "metadata": {},
                                                  "output_type": "display_data"
                                        }
                              ],
                              "source": [
                                        "def get_bootstrap(data_column_1,\n",
                                        "                  data_column_2, boot_it=1000, statistic=np.mean,\n",
                                        "                  bootstrap_conf_level=0.95):\n",
                                        "    boot_len = max([len(data_column_1), len(data_column_2)])\n",
                                        "    boot_data = []\n",
                                        "    for i in tqdm(range(boot_it)):\n",
                                        "        samples_1 = data_column_1.sample(boot_len,\n",
                                        "                                         replace=True).values\n",
                                        "        samples_2 = data_column_2.sample(boot_len,\n",
                                        "                                         replace=True).values\n",
                                        "        boot_data.append(statistic(samples_1 - samples_2))\n",
                                        "    pd_boot_data = pd.DataFrame(boot_data)\n",
                                        "    left_quant = (1 - bootstrap_conf_level) / 2\n",
                                        "    right_quant = 1 - (1 - bootstrap_conf_level) / 2\n",
                                        "    ci = pd_boot_data.quantile([left_quant, right_quant])\n",
                                        "    p_1 = norm.cdf(x=0,\n",
                                        "                   loc=np.mean(boot_data),\n",
                                        "                   scale=np.std(boot_data))\n",
                                        "    p_2 = norm.cdf(x=0,\n",
                                        "                   loc=-np.mean(boot_data),\n",
                                        "                   scale=np.std(boot_data))\n",
                                        "    p_value = min(p_1, p_2) * 2\n",
                                        "    plt.hist(pd_boot_data[0], bins=50)\n",
                                        "    plt.style.use('ggplot')\n",
                                        "    plt.vlines(ci, ymin=0, ymax=50, linestyle='--', color='black')\n",
                                        "    plt.xlabel('boot_data')\n",
                                        "    plt.ylabel('frequency')\n",
                                        "    plt.title(\"Histogram of boot_data\")\n",
                                        "    plt.show()\n",
                                        "    return {\"boot_data\": boot_data,\n",
                                        "            \"ci\": ci, \"p_value\": p_value}\n",
                                        "\n",
                                        "\n",
                                        "booted_data = get_bootstrap(df_test, df_control, boot_it=2000)"
                              ]
                    },
                    {
                              "cell_type": "markdown",
                              "metadata": {},
                              "source": [
                                        "В целом, по графику можно отметить, что наблюдается симметрия в бутстрап-распределении средних (отсуствует сильно выраженная скошенность распределения влево или вправо)."
                              ]
                    },
                    {
                              "cell_type": "markdown",
                              "metadata": {},
                              "source": [
                                        "Значение p-value, найденное с помощью бутстрапа"
                              ]
                    },
                    {
                              "cell_type": "code",
                              "execution_count": 45,
                              "metadata": {},
                              "outputs": [
                                        {
                                                  "data": {
                                                            "text/plain": [
                                                                      "2.1554943685681616e-06"
                                                            ]
                                                  },
                                                  "execution_count": 45,
                                                  "metadata": {},
                                                  "output_type": "execute_result"
                                        }
                              ],
                              "source": [
                                        "booted_data[\"p_value\"]"
                              ]
                    },
                    {
                              "cell_type": "markdown",
                              "metadata": {},
                              "source": [
                                        "Доверительный интервал оценки разницы средних"
                              ]
                    },
                    {
                              "cell_type": "code",
                              "execution_count": 46,
                              "metadata": {},
                              "outputs": [
                                        {
                                                  "data": {
                                                            "text/html": [
                                                                      "<div>\n",
                                                                      "<style scoped>\n",
                                                                      "    .dataframe tbody tr th:only-of-type {\n",
                                                                      "        vertical-align: middle;\n",
                                                                      "    }\n",
                                                                      "\n",
                                                                      "    .dataframe tbody tr th {\n",
                                                                      "        vertical-align: top;\n",
                                                                      "    }\n",
                                                                      "\n",
                                                                      "    .dataframe thead th {\n",
                                                                      "        text-align: right;\n",
                                                                      "    }\n",
                                                                      "</style>\n",
                                                                      "<table border=\"1\" class=\"dataframe\">\n",
                                                                      "  <thead>\n",
                                                                      "    <tr style=\"text-align: right;\">\n",
                                                                      "      <th></th>\n",
                                                                      "      <th>0</th>\n",
                                                                      "    </tr>\n",
                                                                      "  </thead>\n",
                                                                      "  <tbody>\n",
                                                                      "    <tr>\n",
                                                                      "      <th>0.025</th>\n",
                                                                      "      <td>141.966482</td>\n",
                                                                      "    </tr>\n",
                                                                      "    <tr>\n",
                                                                      "      <th>0.975</th>\n",
                                                                      "      <td>351.318153</td>\n",
                                                                      "    </tr>\n",
                                                                      "  </tbody>\n",
                                                                      "</table>\n",
                                                                      "</div>"
                                                            ],
                                                            "text/plain": [
                                                                      "                0\n",
                                                                      "0.025  141.966482\n",
                                                                      "0.975  351.318153"
                                                            ]
                                                  },
                                                  "execution_count": 46,
                                                  "metadata": {},
                                                  "output_type": "execute_result"
                                        }
                              ],
                              "source": [
                                        "booted_data[\"ci\"]"
                              ]
                    },
                    {
                              "cell_type": "code",
                              "execution_count": 47,
                              "metadata": {},
                              "outputs": [
                                        {
                                                  "data": {
                                                            "text/plain": [
                                                                      "9.658027498190076e-05"
                                                            ]
                                                  },
                                                  "execution_count": 47,
                                                  "metadata": {},
                                                  "output_type": "execute_result"
                                        }
                              ],
                              "source": [
                                        "mannwhitneyu(df_test, df_control)[1]"
                              ]
                    },
                    {
                              "cell_type": "markdown",
                              "metadata": {},
                              "source": [
                                        "1. Итак, значение p-value, найденное с помощью бутстрапа, говорит о том, что нам следует отклонить гипотезу H0 о незначимости различий средних в выборках Test и Control, т.е. средние значения Revenue в выборках Test и Control с вероятностью 0,95 различаются.\n",
                                        "2. Аналогичный вывод позволяет сделать и рассчитанный доверительный интервал для разницы в средних значениях – 0 не попадает в доверительный интервал, гипотеза H0 отклоняется.\n",
                                        "3. Значение p-value, полученное с помощью критерия Манна-Уитни, также говорит нам о том, что необходимо отклонить нулевую гипотезу о незначимости различия между выборками (p-value < 0,05), т.е. различия в значениях Revenue выборок Test и Control с вероятностью 0,95 значимы.\n",
                                        "4. Таким образом, мы получили одинаковые выводы, используя различные инструменты проверки гипотезы."
                              ]
                    },
                    {
                              "cell_type": "markdown",
                              "metadata": {},
                              "source": [
                                        "В общем, можно заключить, что новая механика оплаты услуг на сайте способствует увеличению дохода, поэтому стоит запустить новую механику оплаты на всех пользователей."
                              ]
                    },
                    {
                              "cell_type": "code",
                              "execution_count": null,
                              "metadata": {},
                              "outputs": [],
                              "source": []
                    },
                    {
                              "cell_type": "markdown",
                              "metadata": {},
                              "source": [
                                        "Реализуем функцию, которая будет автоматически подгружать информацию из дополнительного файла groups_add.csv и на основании дополнительных параметров пересчитывать метрики."
                              ]
                    },
                    {
                              "cell_type": "code",
                              "execution_count": 48,
                              "metadata": {},
                              "outputs": [],
                              "source": [
                                        "base_url = 'https://cloud-api.yandex.net/v1/disk/public/resources/download?'\n",
                                        "public_key = 'https://disk.yandex.ru/d/58Us0DWOzuWAjg' \n",
                                        "final_url = base_url + urlencode(dict(public_key=public_key))\n",
                                        "response = requests.get(final_url)\n",
                                        "download_url = response.json()['href']\n",
                                        "download_response = requests.get(download_url)\n",
                                        "with open('groups.csv', 'wb') as f:  \n",
                                        "    f.write(download_response.content)\n",
                                        "df = pd.read_csv('groups.csv', sep=';')"
                              ]
                    },
                    {
                              "cell_type": "code",
                              "execution_count": 49,
                              "metadata": {},
                              "outputs": [],
                              "source": [
                                        "base_url = 'https://cloud-api.yandex.net/v1/disk/public/resources/download?'\n",
                                        "public_key = 'https://disk.yandex.ru/d/prbgU-rZpiXVYg' \n",
                                        "final_url = base_url + urlencode(dict(public_key=public_key))\n",
                                        "response = requests.get(final_url)\n",
                                        "download_url = response.json()['href']\n",
                                        "download_response = requests.get(download_url)\n",
                                        "with open('active_studs.csv', 'wb') as f:   \n",
                                        "    f.write(download_response.content)\n",
                                        "df_act = pd.read_csv('active_studs.csv')"
                              ]
                    },
                    {
                              "cell_type": "code",
                              "execution_count": 50,
                              "metadata": {},
                              "outputs": [],
                              "source": [
                                        "base_url = 'https://cloud-api.yandex.net/v1/disk/public/resources/download?'\n",
                                        "public_key = 'https://disk.yandex.ru/d/84hTmELphW2sqQ' \n",
                                        "final_url = base_url + urlencode(dict(public_key=public_key))\n",
                                        "response = requests.get(final_url)\n",
                                        "download_url = response.json()['href']\n",
                                        "download_response = requests.get(download_url)\n",
                                        "with open('checks.csv', 'wb') as f:   \n",
                                        "    f.write(download_response.content)\n",
                                        "df_checks = pd.read_csv('checks.csv', sep=';')"
                              ]
                    },
                    {
                              "cell_type": "code",
                              "execution_count": 51,
                              "metadata": {},
                              "outputs": [
                                        {
                                                  "data": {
                                                            "text/plain": [
                                                                      "([47.34720416124838,\n",
                                                                      "  58.058798103777754,\n",
                                                                      "  5.071521456436931,\n",
                                                                      "  4.615610759958842,\n",
                                                                      "  933.5897435897435,\n",
                                                                      "  1257.8789920382164],\n",
                                                                      " {'Средний доход от оплат услуг пользователями (группа А), ден.ед.': 47.34720416124838,\n",
                                                                      "  'Средний доход от оплат услуг пользователями (группа B), ден.ед.': 58.058798103777754,\n",
                                                                      "  'Доля платящих пользователей (группа А, %)': 5.071521456436931,\n",
                                                                      "  'Доля платящих пользователей (группа B, %)': 4.615610759958842,\n",
                                                                      "  'Средний доход на платящего пользователя (ARPPU) в группе А, ден.ед.': 933.5897435897435,\n",
                                                                      "  'Средний доход на платящего пользователя (ARPPU) в группе B, ден.ед.': 1257.8789920382164})"
                                                            ]
                                                  },
                                                  "execution_count": 51,
                                                  "metadata": {},
                                                  "output_type": "execute_result"
                                        }
                              ],
                              "source": [
                                        "def update_metrics(df, df_act=df_act, df_checks=df_checks):\n",
                                        "    base_url = 'https://cloud-api.yandex.net/v1/disk/public/resources/download?'\n",
                                        "    public_key = 'https://disk.yandex.ru/d/3aARY-P9pfaksg'\n",
                                        "    final_url = base_url + urlencode(dict(public_key=public_key))\n",
                                        "    response = requests.get(final_url)\n",
                                        "    download_url = response.json()['href']\n",
                                        "    download_response = requests.get(download_url)\n",
                                        "    with open('groups_add.csv', 'wb') as f:\n",
                                        "        f.write(download_response.content)\n",
                                        "    df_add = pd.read_csv('groups_add.csv')\n",
                                        "    col_lst_add = df_add.columns.to_list()\n",
                                        "    col_lst = df.columns.to_list()\n",
                                        "    df_add = df_add.rename(columns={col_lst_add[0]: col_lst[0], col_lst_add[1]: col_lst[1]})\n",
                                        "    df = pd.concat([df, df_add], ignore_index=True)\n",
                                        "    df_add_2 = df.query('id in @lst_st_id')\n",
                                        "    df_add_2['participant'] = 1\n",
                                        "    df = df_add_2.merge(df, how='right', on=['id', 'grp']).fillna(0).astype({'participant': 'int'})\n",
                                        "    lst_cols = df.columns.to_list()\n",
                                        "    lst_cols.remove('participant')\n",
                                        "    df = df.query('participant == 1')[lst_cols]\n",
                                        "    df_check = df_checks.rename(columns={'student_id': 'id'})\n",
                                        "    df = df.merge(df_check, how='left', on='id')\n",
                                        "    df.fillna(0, inplace=True)\n",
                                        "    av_rev_a = df[df.grp == \"A\"][\"rev\"].mean()\n",
                                        "    av_rev_b = df[df.grp == \"B\"][\"rev\"].mean()\n",
                                        "    share_a = df[(df.grp == \"A\") & (df.rev > 0)].shape[0] / df[df.grp == \"A\"].shape[0] * 100\n",
                                        "    share_b = df[(df.grp == \"B\") & (df.rev > 0)].shape[0] / df[df.grp == \"B\"].shape[0] * 100\n",
                                        "    arppu_a = df[(df.grp == \"A\") & (df.rev > 0)][\"rev\"].mean()\n",
                                        "    arppu_b = df[(df.grp == \"B\") & (df.rev > 0)][\"rev\"].mean()\n",
                                        "    lst_main = [av_rev_a, av_rev_b, share_a, share_b, arppu_a, arppu_b]\n",
                                        "    dct_main = {'Средний доход от оплат услуг пользователями (группа А), ден.ед.': av_rev_a,\n",
                                        "                'Средний доход от оплат услуг пользователями (группа B), ден.ед.': av_rev_b,\n",
                                        "                'Доля платящих пользователей (группа А, %)': share_a,\n",
                                        "                'Доля платящих пользователей (группа B, %)': share_b,\n",
                                        "                'Средний доход на платящего пользователя (ARPPU) в группе А, ден.ед.': arppu_a,\n",
                                        "                'Средний доход на платящего пользователя (ARPPU) в группе B, ден.ед.': arppu_b}\n",
                                        "    return lst_main, dct_main\n",
                                        "\n",
                                        "\n",
                                        "update_metrics(df)"
                              ]
                    },
                    {
                              "cell_type": "markdown",
                              "metadata": {},
                              "source": [
                                        "Реализуем функцию, которая будет строить графики по получаемым метрикам."
                              ]
                    },
                    {
                              "cell_type": "code",
                              "execution_count": 52,
                              "metadata": {},
                              "outputs": [
                                        {
                                                  "data": {
                                                            "image/png": "[encoded data removed]",
                                                            "text/plain": [
                                                                      "<Figure size 1080x2160 with 3 Axes>"
                                                            ]
                                                  },
                                                  "metadata": {},
                                                  "output_type": "display_data"
                                        }
                              ],
                              "source": [
                                        "def plot_graphs():\n",
                                        "    sns.set_palette('Dark2_r')\n",
                                        "    sns.set_theme(style=\"whitegrid\")\n",
                                        "    fig, ax = plt.subplots(3, figsize=[15, 30])\n",
                                        "    ax[0].set_title('Средний доход от оплат услуг пользователями, ден.ед.', size=16)\n",
                                        "    ax[1].set_title('Доля платящих пользователей, %', size=16)\n",
                                        "    ax[2].set_title('Средний доход на платящего пользователя (ARPPU), ден.ед.', size=16)\n",
                                        "    ax[0].bar([1, 2], [update_metrics(df)[0][0], update_metrics(df)[0][1]], width=0.6,\n",
                                        "              tick_label=['Контрольная группа (А)', 'Целевая группа (B)'], align='center',\n",
                                        "              color=['skyblue', 'paleturquoise'])\n",
                                        "    ax[1].bar([1, 2], [update_metrics(df)[0][2], update_metrics(df)[0][3]], width=0.6,\n",
                                        "              tick_label=['Контрольная группа (А)', 'Целевая группа (B)'], align='center',\n",
                                        "              color=['coral', 'cornflowerblue'])\n",
                                        "    ax[2].bar([1, 2], [update_metrics(df)[0][4], update_metrics(df)[0][5]], width=0.6,\n",
                                        "              tick_label=['Контрольная группа (А)', 'Целевая группа (B)'], align='center',\n",
                                        "              color=['steelblue', 'lightblue'])\n",
                                        "    style = dict(size=14, color='black')\n",
                                        "    ax[0].text(0.9, update_metrics(df)[0][0] + 1, str(int(round(update_metrics(df)[0][0], 0))) + ' ден.ед.', **style)\n",
                                        "    ax[0].text(1.9, update_metrics(df)[0][1] + 1, str(int(round(update_metrics(df)[0][1], 0))) + ' ден.ед.', **style)\n",
                                        "    ax[1].text(0.9, update_metrics(df)[0][2] + 0.1, str(round(update_metrics(df)[0][2], 2)) + ' %', **style)\n",
                                        "    ax[1].text(1.9, update_metrics(df)[0][3] + 0.1, str(round(update_metrics(df)[0][3], 2)) + ' %', **style)\n",
                                        "    ax[2].text(0.9, update_metrics(df)[0][4] + 15, str(int(round(update_metrics(df)[0][4], 0))) + ' ден.ед.', **style)\n",
                                        "    ax[2].text(1.9, update_metrics(df)[0][5] + 15, str(int(round(update_metrics(df)[0][5], 0))) + ' ден.ед.', **style)\n",
                                        "    ax[0].set_xlim(0, 3)\n",
                                        "    ax[0].set_ylim(0, 70)\n",
                                        "    ax[1].set_xlim(0, 3)\n",
                                        "    ax[1].set_ylim(0, 6)\n",
                                        "    ax[2].set_xlim(0, 3)\n",
                                        "    ax[0].tick_params(axis='both', which='major', labelsize=14)\n",
                                        "    ax[1].tick_params(axis='both', which='major', labelsize=14)\n",
                                        "    ax[2].tick_params(axis='both', which='major', labelsize=14)\n",
                                        "\n",
                                        "\n",
                                        "plot_graphs()"
                              ]
                    },
                    {
                              "cell_type": "code",
                              "execution_count": null,
                              "metadata": {},
                              "outputs": [],
                              "source": []
                    }
          ],
          "metadata": {
                    "interpreter": {
                              "hash": "aee8b7b246df8f9039afb4144a1f6fd8d2ca17a180786b69acc140d282b71a49"
                    },
                    "kernelspec": {
                              "display_name": "Python 3.9.2 64-bit",
                              "name": "python3"
                    },
                    "language_info": {
                              "codemirror_mode": {
                                        "name": "ipython",
                                        "version": 3
                              },
                              "file_extension": ".py",
                              "mimetype": "text/x-python",
                              "name": "python",
                              "nbconvert_exporter": "python",
                              "pygments_lexer": "ipython3",
                              "version": "3.9.2"
                    },
                    "orig_nbformat": 4
          },
          "nbformat": 4,
          "nbformat_minor": 2
}
