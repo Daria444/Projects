{
 "cells": [
  {
   "cell_type": "code",
   "execution_count": 1,
   "metadata": {},
   "outputs": [],
   "source": [
    "import random\n",
    "import numpy as np"
   ]
  },
  {
   "cell_type": "code",
   "execution_count": 2,
   "metadata": {},
   "outputs": [],
   "source": [
    "def find_city(p):\n",
    "    x = random.random()\n",
    "    i = 0\n",
    "    s = p[i][1]\n",
    "    while s < x:\n",
    "        i += 1\n",
    "        s += p[i][1]\n",
    "    val = p[i][0]\n",
    "    return val"
   ]
  },
  {
   "cell_type": "code",
   "execution_count": 3,
   "metadata": {},
   "outputs": [],
   "source": [
    "distances = np.array([[1000, 40, 75, 60, 45],\n",
    "                    [40, 1000, 45, 60, 70],\n",
    "                    [75, 45, 1000, 50, 85],                       \n",
    "                    [60, 60, 50, 1000, 40],                \n",
    "                    [45, 70, 85, 40, 1000]])"
   ]
  },
  {
   "cell_type": "code",
   "execution_count": 4,
   "metadata": {},
   "outputs": [
    {
     "data": {
      "text/plain": [
       "array([[0.07901852, 0.07990209, 0.33928486, 0.11499021, 0.18057118],\n",
       "       [0.29681184, 0.36583977, 0.29849952, 0.36021551, 0.49084615],\n",
       "       [0.08232779, 0.37209667, 0.22357122, 0.28129237, 0.30877499],\n",
       "       [0.10317331, 0.02814758, 0.03171927, 0.03020752, 0.36125174],\n",
       "       [0.1890622 , 0.48837625, 0.04505629, 0.44077081, 0.14995827]])"
      ]
     },
     "execution_count": 4,
     "metadata": {},
     "output_type": "execute_result"
    }
   ],
   "source": [
    "pheromone = np.array([[random.uniform(0, 0.5) for i in range(5)] for j in range(5)])\n",
    "pheromone"
   ]
  },
  {
   "cell_type": "code",
   "execution_count": 5,
   "metadata": {},
   "outputs": [],
   "source": [
    "alpha = 1\n",
    "beta = 1 \n",
    "Q = 10\n",
    "po = 0.5 \n",
    "numb_iter = 100"
   ]
  },
  {
   "cell_type": "code",
   "execution_count": 6,
   "metadata": {},
   "outputs": [
    {
     "data": {
      "text/plain": [
       "5"
      ]
     },
     "execution_count": 6,
     "metadata": {},
     "output_type": "execute_result"
    }
   ],
   "source": [
    "numb_ants = len(distances)\n",
    "numb_ants"
   ]
  },
  {
   "cell_type": "code",
   "execution_count": 7,
   "metadata": {},
   "outputs": [],
   "source": [
    "def path_for_many_ants(distances, pheromne, alpha, beta, Q, po, numb_iter, numb_ants):\n",
    "    visibility = 1 / distances\n",
    "    opt_path = np.inf\n",
    "\n",
    "    for it in range(numb_iter):\n",
    "        ants_path = {}\n",
    "        for j in range(numb_ants):\n",
    "            all_cities = [i for i in range(1, len(distances)+1)]\n",
    "            aval_cities = all_cities\n",
    "            len_path = 0\n",
    "            \n",
    "            start_city = random.choice([i for i in range(1, len(distances) + 1)])\n",
    "            visit_cities = [start_city]\n",
    "\n",
    "            while len(aval_cities) != 1:\n",
    "                aval_cities.remove(start_city)\n",
    "                p = []\n",
    "                for i in aval_cities:\n",
    "                    p.append([i, pheromone[start_city-1, i-1]**alpha * visibility[start_city-1, i-1]**beta / sum([pheromone[start_city-1, j-1] * visibility[start_city-1][j-1] for j in aval_cities])])\n",
    "                city = find_city(p)\n",
    "                visit_cities.append(city)\n",
    "                len_path += distances[start_city-1][city-1]\n",
    "                start_city = city\n",
    "\n",
    "            len_path += distances[visit_cities[0]-1][visit_cities[-1]-1] \n",
    "            visit_cities.append(visit_cities[0])\n",
    "            ants_path[len_path] = visit_cities\n",
    "\n",
    "        ant_opt_path = min(list(ants_path.keys()))\n",
    "        ant_opt_cities = ants_path[min(list(ants_path.keys()))]\n",
    "\n",
    "        if ant_opt_path < opt_path:\n",
    "            opt_path = ant_opt_path\n",
    "            opt_visit_cities = ant_opt_cities \n",
    "\n",
    "        for j in ants_path:\n",
    "            for i in range(1, len(ants_path[j])):\n",
    "                pheromone[ants_path[j][i-1]-1][ants_path[j][i]-1] = (1-po) * pheromone[ants_path[j][i-1]-1][ants_path[j][i]-1] + Q / j\n",
    "\n",
    "    print(f'Ant`s path: {\" –> \".join([str(i) for i in opt_visit_cities])}')\n",
    "    print(f'Ant path length: {opt_path}')\n",
    "    "
   ]
  },
  {
   "cell_type": "code",
   "execution_count": 8,
   "metadata": {},
   "outputs": [
    {
     "name": "stdout",
     "output_type": "stream",
     "text": [
      "Ant`s path: 1 –> 5 –> 4 –> 3 –> 2 –> 1\n",
      "Ant path length: 220\n"
     ]
    }
   ],
   "source": [
    "path_for_many_ants(distances, pheromone, alpha, beta, Q, po, numb_iter, numb_ants)\n"
   ]
  }
 ],
 "metadata": {
  "interpreter": {
   "hash": "34ef47f5af1e4651fc1752af826ecef864f55652a5e6a13d8d7a49fc5adff9bf"
  },
  "kernelspec": {
   "display_name": "Python 3.8.8 64-bit",
   "language": "python",
   "name": "python3"
  },
  "language_info": {
   "codemirror_mode": {
    "name": "ipython",
    "version": 3
   },
   "file_extension": ".py",
   "mimetype": "text/x-python",
   "name": "python",
   "nbconvert_exporter": "python",
   "pygments_lexer": "ipython3",
   "version": "3.8.8"
  },
  "orig_nbformat": 4
 },
 "nbformat": 4,
 "nbformat_minor": 2
}
