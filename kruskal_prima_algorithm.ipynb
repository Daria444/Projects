{
 "cells": [
  {
   "cell_type": "code",
   "execution_count": 1,
   "metadata": {},
   "outputs": [],
   "source": [
    "import numpy as np\n",
    "import math"
   ]
  },
  {
   "cell_type": "markdown",
   "metadata": {},
   "source": [
    "---\n",
    "Kruskal\n",
    "---"
   ]
  },
  {
   "cell_type": "code",
   "execution_count": 2,
   "metadata": {},
   "outputs": [],
   "source": [
    "R = [(7, 1, 2), (9, 1, 3), (14, 1, 6), (10, 2, 3), (15, 2, 4), (11, 3, 4), (2, 3, 6), (6, 4, 5), (9, 5, 6)]"
   ]
  },
  {
   "cell_type": "code",
   "execution_count": 3,
   "metadata": {},
   "outputs": [],
   "source": [
    "# на вход подается список ребер\n",
    "def find_min_ost_Kruskal(R):\n",
    "    R_sort = sorted(R, key=lambda x: x[0])\n",
    "    vert = set()   # множество соединенных вершин\n",
    "    ver_dct = {}      # словарь списка изолированных групп вершин\n",
    "    min_ost = []      # список ребер, составляющих минимальный остов\n",
    "    \n",
    "    # Первый проход графа – объединяем вершины по парам с минимальным весом ребер\n",
    "    for r in R_sort:\n",
    "        if r[1] not in vert or r[2] not in vert:    # проверяем для исключения циклов в остове\n",
    "            if r[1] not in vert and r[2] not in vert: # если обе вершины не соединены, то\n",
    "                ver_dct[r[1]] = [r[1], r[2]]   # формируем в словаре ключ с номерами вершин\n",
    "                ver_dct[r[2]] = ver_dct[r[1]]    # и связываем их с одним и тем же списком вершин\n",
    "            else:   # иначе\n",
    "                if not ver_dct.get(r[1]):        # если в словаре нет первой вершины, то\n",
    "                    ver_dct[r[2]].append(r[1])   # добавляем в список первую вершину\n",
    "                    ver_dct[r[1]] = ver_dct[r[2]]  # и добавляем ключ с номером первой вершины + добавляем соответствующий список вершин\n",
    "                else:\n",
    "                    ver_dct[r[1]].append(r[2])   # иначе, все то же самое делаем со второй вершиной\n",
    "                    ver_dct[r[2]] = ver_dct[r[1]]\n",
    "\n",
    "            min_ost.append(r)       # добавляем ребро в минимальный остов \n",
    "            vert.add(r[1])          # добавляем вершины в множество vert\n",
    "            vert.add(r[2])\n",
    "\n",
    "    for r in R_sort:    # проходим по ребрам второй раз и объединяем разрозненные ребра в единый остов\n",
    "        if r[2] not in ver_dct[r[1]] and [x for x in ver_dct[r[1]] if x in ver_dct[r[2]]] != ver_dct[r[1]]:   # если вершины принадлежат разным группам, то объединяем\n",
    "            min_ost.append(r)             # добавляем ребро в остов\n",
    "            r1 = ver_dct[r[1]]\n",
    "            ver_dct[r[1]] += ver_dct[r[2]]      # объединем списки двух групп вершин\n",
    "            ver_dct[r[2]] += r1\n",
    "            \n",
    "    return min_ost\n"
   ]
  },
  {
   "cell_type": "code",
   "execution_count": 4,
   "metadata": {},
   "outputs": [
    {
     "data": {
      "text/plain": [
       "[(2, 3, 6), (6, 4, 5), (7, 1, 2), (9, 1, 3), (9, 5, 6)]"
      ]
     },
     "execution_count": 4,
     "metadata": {},
     "output_type": "execute_result"
    }
   ],
   "source": [
    "find_min_ost_Kruskal(R)"
   ]
  },
  {
   "cell_type": "code",
   "execution_count": null,
   "metadata": {},
   "outputs": [],
   "source": []
  },
  {
   "cell_type": "markdown",
   "metadata": {},
   "source": [
    "---\n",
    "Prima\n",
    "---"
   ]
  },
  {
   "cell_type": "code",
   "execution_count": 5,
   "metadata": {},
   "outputs": [],
   "source": [
    "# список ребер графа (длина – вершина 1 – вершина 2)\n",
    "R = [(math.inf, -1, -1), (7, 1, 2), (3, 1, 3), (5, 1, 4), (4, 2, 4), (8, 2, 5), (6, 4, 5)]"
   ]
  },
  {
   "cell_type": "code",
   "execution_count": 6,
   "metadata": {},
   "outputs": [],
   "source": [
    "# Функция, находящая следующее ребро для включения в минимальный остов\n",
    "\n",
    "def find_min(R, ver_dct):\n",
    "    r_min = (math.inf, -1, -1)\n",
    "    for v in ver_dct:\n",
    "        r = min(R, key=lambda x: x[0] if (x[1] == v or x[2] == v) and (x[1] not in ver_dct or x[2] not in ver_dct) else math.inf)\n",
    "        if r_min[0] > r[0]:\n",
    "            r_min = r  \n",
    "    return r_min "
   ]
  },
  {
   "cell_type": "code",
   "execution_count": 7,
   "metadata": {},
   "outputs": [],
   "source": [
    "def find_min_ost_Prima(R):\n",
    "    n = len(R)    # число вершин в графе\n",
    "    ver_dct = {1} # словарь соединенных вершин, ставим 1, т.к. мы знаем, что стартуем из 1ой вершины\n",
    "    min_ost = []  # список ребер, формирующих минимальный остов\n",
    "\n",
    "    while len(ver_dct) < n:\n",
    "        r = find_min(R, ver_dct)\n",
    "        if r[0] == math.inf:\n",
    "            break\n",
    "\n",
    "        min_ost.append(r) # включаем ребро в минимальный остов\n",
    "        ver_dct.add(r[1]) # добавляем вершину в словарь, если такой вершины в нем нет\n",
    "        ver_dct.add(r[2])\n",
    "\n",
    "    return(min_ost)"
   ]
  },
  {
   "cell_type": "code",
   "execution_count": 8,
   "metadata": {},
   "outputs": [
    {
     "data": {
      "text/plain": [
       "[(3, 1, 3), (5, 1, 4), (4, 2, 4), (6, 4, 5)]"
      ]
     },
     "execution_count": 8,
     "metadata": {},
     "output_type": "execute_result"
    }
   ],
   "source": [
    "find_min_ost_Prima(R)"
   ]
  },
  {
   "cell_type": "code",
   "execution_count": null,
   "metadata": {},
   "outputs": [],
   "source": []
  }
 ],
 "metadata": {
  "interpreter": {
   "hash": "34ef47f5af1e4651fc1752af826ecef864f55652a5e6a13d8d7a49fc5adff9bf"
  },
  "kernelspec": {
   "display_name": "Python 3.8.8 64-bit",
   "language": "python",
   "name": "python3"
  },
  "language_info": {
   "codemirror_mode": {
    "name": "ipython",
    "version": 3
   },
   "file_extension": ".py",
   "mimetype": "text/x-python",
   "name": "python",
   "nbconvert_exporter": "python",
   "pygments_lexer": "ipython3",
   "version": "3.8.8"
  },
  "orig_nbformat": 4
 },
 "nbformat": 4,
 "nbformat_minor": 2
}
