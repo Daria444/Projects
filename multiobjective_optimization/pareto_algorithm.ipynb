{
 "cells": [
  {
   "cell_type": "markdown",
   "metadata": {},
   "source": [
    "---\n",
    "### Criteria –> max\n",
    "\n",
    "---"
   ]
  },
  {
   "cell_type": "code",
   "execution_count": 1,
   "metadata": {},
   "outputs": [],
   "source": [
    "alt_dct = {'A1': [3, 3, 4], \n",
    "            'A2': [4, 1, 2], \n",
    "            'A3': [1, 2, 2], \n",
    "            'A4': [1, 3, 6], \n",
    "            'A5': [4, 2, 3],\n",
    "            'A6': [3, 2, 1], \n",
    "            'A7': [5, 1, 5], \n",
    "            'A8': [1, 1, 2], \n",
    "            'A9': [4, 1, 1], \n",
    "            'A10': [2, 2, 3],\n",
    "            'A11': [5, 1, 2]\n",
    "            }"
   ]
  },
  {
   "cell_type": "code",
   "execution_count": 2,
   "metadata": {},
   "outputs": [],
   "source": [
    "def find_Pareto_max(alt_dct):\n",
    "    pareto_opt = [i for i in alt_dct.keys()]\n",
    "    lst = list(alt_dct.keys())\n",
    "    for i in list(alt_dct.keys()):\n",
    "        lst.remove(i)\n",
    "        for j in list({z: alt_dct[z] for z in lst}.keys()):\n",
    "            n = []\n",
    "            for k in range(len(alt_dct[list(alt_dct.keys())[0]])):\n",
    "                if alt_dct[i][k] >= alt_dct[j][k]:\n",
    "                    n.append(alt_dct[j][k])\n",
    "                else:\n",
    "                    continue\n",
    "            if len(n) == len(alt_dct[list(alt_dct.keys())[0]]) and j in pareto_opt:\n",
    "                pareto_opt.remove(j)\n",
    "        lst = list(alt_dct.keys())\n",
    "    return pareto_opt"
   ]
  },
  {
   "cell_type": "code",
   "execution_count": 3,
   "metadata": {},
   "outputs": [
    {
     "data": {
      "text/plain": [
       "['A1', 'A4', 'A5', 'A7']"
      ]
     },
     "execution_count": 3,
     "metadata": {},
     "output_type": "execute_result"
    }
   ],
   "source": [
    "find_Pareto_max(alt_dct)"
   ]
  },
  {
   "cell_type": "code",
   "execution_count": null,
   "metadata": {},
   "outputs": [],
   "source": []
  },
  {
   "cell_type": "markdown",
   "metadata": {},
   "source": [
    "---\n",
    "### Criteria –> min\n",
    "\n",
    "---"
   ]
  },
  {
   "cell_type": "code",
   "execution_count": 4,
   "metadata": {},
   "outputs": [],
   "source": [
    "alt_dct = {'A1': [3, 3, 4], \n",
    "            'A2': [4, 1, 2], \n",
    "            'A3': [1, 2, 2], \n",
    "            'A4': [1, 3, 6], \n",
    "            'A5': [4, 2, 3],\n",
    "            'A6': [3, 2, 1], \n",
    "            'A7': [5, 1, 5], \n",
    "            'A8': [1, 1, 2], \n",
    "            'A9': [4, 1, 1], \n",
    "            'A10': [2, 2, 3],\n",
    "            'A11': [5, 1, 2]\n",
    "            }"
   ]
  },
  {
   "cell_type": "code",
   "execution_count": 5,
   "metadata": {},
   "outputs": [],
   "source": [
    "def find_Pareto_min(alt_dct):\n",
    "    pareto_opt = [i for i in alt_dct.keys()]\n",
    "    lst = list(alt_dct.keys())\n",
    "    lst_add = []\n",
    "    for i in list(alt_dct.keys()):\n",
    "        lst.remove(i)\n",
    "        for j in list({z: alt_dct[z] for z in lst}.keys()):\n",
    "            n = []\n",
    "            for k in range(len(alt_dct[list(alt_dct.keys())[0]])):\n",
    "                if alt_dct[i][k] <= alt_dct[j][k]:\n",
    "                    n.append(alt_dct[j][k])\n",
    "                else:\n",
    "                    continue\n",
    "            if len(n) == len(alt_dct[list(alt_dct.keys())[0]]) and j in pareto_opt:\n",
    "                pareto_opt.remove(j)\n",
    "        lst = list(alt_dct.keys())\n",
    "    return pareto_opt"
   ]
  },
  {
   "cell_type": "code",
   "execution_count": 6,
   "metadata": {},
   "outputs": [
    {
     "data": {
      "text/plain": [
       "['A6', 'A8', 'A9']"
      ]
     },
     "execution_count": 6,
     "metadata": {},
     "output_type": "execute_result"
    }
   ],
   "source": [
    "find_Pareto_min(alt_dct)"
   ]
  },
  {
   "cell_type": "code",
   "execution_count": null,
   "metadata": {},
   "outputs": [],
   "source": []
  },
  {
   "cell_type": "markdown",
   "metadata": {},
   "source": [
    "---\n",
    "### Max and min\n",
    "\n",
    "---"
   ]
  },
  {
   "cell_type": "code",
   "execution_count": 7,
   "metadata": {},
   "outputs": [],
   "source": [
    "alt_dct = {'A1': [65, 45, 1], \n",
    "            'A2': [50, 40, 2], \n",
    "            'A3': [60, 15, 2], \n",
    "            'A4': [70, 35, 1], \n",
    "            'A5': [100, 30, 4]\n",
    "            }\n",
    "cr = ['max', 'min', 'max']"
   ]
  },
  {
   "cell_type": "code",
   "execution_count": 8,
   "metadata": {},
   "outputs": [],
   "source": [
    "def find_Pareto(alt_dct, cr):\n",
    "    pareto_opt = [i for i in alt_dct.keys()]\n",
    "    lst = list(alt_dct.keys())\n",
    "    lst_add = []\n",
    "    for i in list(alt_dct.keys()):\n",
    "        lst.remove(i)\n",
    "        for j in list({z: alt_dct[z] for z in lst}.keys()):\n",
    "            n = []\n",
    "            for k in range(len(alt_dct[list(alt_dct.keys())[0]])):\n",
    "                if cr[k] == 'max':\n",
    "                    if alt_dct[i][k] >= alt_dct[j][k]:\n",
    "                        n.append(alt_dct[j][k])\n",
    "                    else:\n",
    "                        continue\n",
    "                elif cr[k] == 'min':\n",
    "                    if alt_dct[i][k] <= alt_dct[j][k]:\n",
    "                        n.append(alt_dct[j][k])\n",
    "                    else:\n",
    "                        continue\n",
    "            if len(n) == len(alt_dct[list(alt_dct.keys())[0]]) and j in pareto_opt:\n",
    "                pareto_opt.remove(j)\n",
    "        lst = list(alt_dct.keys())\n",
    "    return pareto_opt"
   ]
  },
  {
   "cell_type": "code",
   "execution_count": 9,
   "metadata": {},
   "outputs": [
    {
     "data": {
      "text/plain": [
       "['A3', 'A5']"
      ]
     },
     "execution_count": 9,
     "metadata": {},
     "output_type": "execute_result"
    }
   ],
   "source": [
    "find_Pareto(alt_dct, cr)"
   ]
  },
  {
   "cell_type": "code",
   "execution_count": null,
   "metadata": {},
   "outputs": [],
   "source": []
  },
  {
   "cell_type": "code",
   "execution_count": null,
   "metadata": {},
   "outputs": [],
   "source": []
  }
 ],
 "metadata": {
  "interpreter": {
   "hash": "aee8b7b246df8f9039afb4144a1f6fd8d2ca17a180786b69acc140d282b71a49"
  },
  "kernelspec": {
   "display_name": "Python 3.9.2 64-bit",
   "name": "python3"
  },
  "language_info": {
   "codemirror_mode": {
    "name": "ipython",
    "version": 3
   },
   "file_extension": ".py",
   "mimetype": "text/x-python",
   "name": "python",
   "nbconvert_exporter": "python",
   "pygments_lexer": "ipython3",
   "version": "3.9.2"
  },
  "orig_nbformat": 4
 },
 "nbformat": 4,
 "nbformat_minor": 2
}
