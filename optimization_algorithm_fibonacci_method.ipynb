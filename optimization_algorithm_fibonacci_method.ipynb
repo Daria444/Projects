{
 "cells": [
  {
   "cell_type": "code",
   "execution_count": 1,
   "source": [
    "import numpy as np \r\n",
    "import pandas as pd \r\n",
    "import matplotlib.pyplot as plt\r\n",
    "from scipy.interpolate import make_interp_spline\r\n",
    "%matplotlib inline "
   ],
   "outputs": [],
   "metadata": {}
  },
  {
   "cell_type": "markdown",
   "source": [
    "------\r\n",
    "## Исходные данные\r\n",
    "------"
   ],
   "metadata": {}
  },
  {
   "cell_type": "code",
   "execution_count": 2,
   "source": [
    "a = -3\r\n",
    "b = 2\r\n",
    "e = 0.0001\r\n",
    "\r\n",
    "A3 = 1\r\n",
    "A2 = 2\r\n",
    "A1 = 2\r\n",
    "A0 = 1"
   ],
   "outputs": [],
   "metadata": {}
  },
  {
   "cell_type": "code",
   "execution_count": 3,
   "source": [
    "def func(x):\r\n",
    "    return x**4 + A3*x**3 + A2*x**2 + A1*x + A0"
   ],
   "outputs": [],
   "metadata": {}
  },
  {
   "cell_type": "code",
   "execution_count": null,
   "source": [],
   "outputs": [],
   "metadata": {}
  },
  {
   "cell_type": "markdown",
   "source": [
    "------\r\n",
    "## Создаем функцию для расчета чисел Фибоначчи\r\n",
    "------"
   ],
   "metadata": {}
  },
  {
   "cell_type": "code",
   "execution_count": 4,
   "source": [
    "from math import sqrt\r\n",
    "def nFib(n):\r\n",
    "    res = (((1+sqrt(5))**n)-((1-sqrt(5)))**n)/(2**n*sqrt(5))\r\n",
    "    return int(res)  "
   ],
   "outputs": [],
   "metadata": {}
  },
  {
   "cell_type": "markdown",
   "source": [
    "------\r\n",
    "## Проверка работы функции nFib\r\n",
    "------"
   ],
   "metadata": {}
  },
  {
   "cell_type": "code",
   "execution_count": 5,
   "source": [
    "F = nFib(12)\r\n",
    "F"
   ],
   "outputs": [
    {
     "output_type": "execute_result",
     "data": {
      "text/plain": [
       "144"
      ]
     },
     "metadata": {},
     "execution_count": 5
    }
   ],
   "metadata": {}
  },
  {
   "cell_type": "code",
   "execution_count": null,
   "source": [],
   "outputs": [],
   "metadata": {}
  },
  {
   "cell_type": "markdown",
   "source": [
    "------\r\n",
    "## Создаем функцию для поиска Fn\r\n",
    "------"
   ],
   "metadata": {}
  },
  {
   "cell_type": "code",
   "execution_count": 6,
   "source": [
    "def find_Fn(a, b, e):\r\n",
    "    n = 1\r\n",
    "    F = nFib(n)\r\n",
    "    while F <= (b - a) / e:\r\n",
    "        n += 1\r\n",
    "        F = nFib(n)\r\n",
    "    return F\r\n"
   ],
   "outputs": [],
   "metadata": {}
  },
  {
   "cell_type": "markdown",
   "source": [
    "------\r\n",
    "## Проверка работы функции find_Fn\r\n",
    "------"
   ],
   "metadata": {}
  },
  {
   "cell_type": "code",
   "execution_count": 7,
   "source": [
    "find_Fn(a, b, e)"
   ],
   "outputs": [
    {
     "output_type": "execute_result",
     "data": {
      "text/plain": [
       "75025"
      ]
     },
     "metadata": {},
     "execution_count": 7
    }
   ],
   "metadata": {}
  },
  {
   "cell_type": "code",
   "execution_count": null,
   "source": [],
   "outputs": [],
   "metadata": {}
  },
  {
   "cell_type": "markdown",
   "source": [
    "------\r\n",
    "## Создаем функцию для поиска n\r\n",
    "------"
   ],
   "metadata": {}
  },
  {
   "cell_type": "code",
   "execution_count": 8,
   "source": [
    "def find_n(f):\r\n",
    "    lst = []\r\n",
    "    n = 1\r\n",
    "    lst.append(nFib(n))\r\n",
    "    while lst[-1] != f:\r\n",
    "        n += 1\r\n",
    "        lst.append(nFib(n)) \r\n",
    "    return len(lst) \r\n"
   ],
   "outputs": [],
   "metadata": {}
  },
  {
   "cell_type": "markdown",
   "source": [
    "------\r\n",
    "## Проверка работы функции find_n\r\n",
    "------"
   ],
   "metadata": {}
  },
  {
   "cell_type": "code",
   "execution_count": 9,
   "source": [
    "find_n(144)"
   ],
   "outputs": [
    {
     "output_type": "execute_result",
     "data": {
      "text/plain": [
       "12"
      ]
     },
     "metadata": {},
     "execution_count": 9
    }
   ],
   "metadata": {}
  },
  {
   "cell_type": "code",
   "execution_count": null,
   "source": [],
   "outputs": [],
   "metadata": {}
  },
  {
   "cell_type": "code",
   "execution_count": null,
   "source": [],
   "outputs": [],
   "metadata": {}
  },
  {
   "cell_type": "markdown",
   "source": [
    "------\r\n",
    "## Создаем функцию для поиска отрезка локализации минимума f\r\n",
    "------"
   ],
   "metadata": {}
  },
  {
   "cell_type": "code",
   "execution_count": 26,
   "source": [
    "def find_interval(a, b, e):\r\n",
    "    F = find_Fn(a, b, e)\r\n",
    "    n = find_n(F)\r\n",
    "    l = a + nFib(n-2) / F * (b - a)\r\n",
    "    m = a + nFib(n-1) / F * (b - a)\r\n",
    "    k = 1\r\n",
    "\r\n",
    "    f1 = func(l)\r\n",
    "    f2 = func(m)\r\n",
    "\r\n",
    "    d = {}\r\n",
    "    i = 1\r\n",
    "    d[i] = [a, b, l, m, f1, f2]\r\n",
    " \r\n",
    "    while True:\r\n",
    "        if f1 > f2:\r\n",
    "            a = l\r\n",
    "            l = m\r\n",
    "            m = a + nFib(n-k-1) / nFib(n-k) * (b - a)\r\n",
    "            f1 = f2\r\n",
    "            f2 = func(m) \r\n",
    "        else:\r\n",
    "            b = m\r\n",
    "            m = l \r\n",
    "            l = a + nFib(n-k-2) / nFib(n-k) * (b - a)\r\n",
    "            f2 = f1\r\n",
    "            f1 = func(l)\r\n",
    "\r\n",
    "        i += 1\r\n",
    "        d[i] = [a, b, l, m, f1, f2]\r\n",
    "        \r\n",
    "        if k == n-2:\r\n",
    "            m = l + e\r\n",
    "            if f1 < f2:\r\n",
    "                b = m\r\n",
    "                i += 1\r\n",
    "                d[i] = [a, b, l, m, f1, f2]\r\n",
    "                break\r\n",
    "            else:\r\n",
    "                a = l\r\n",
    "                i += 1\r\n",
    "                d[i] = [a, b, l, m, f1, f2]\r\n",
    "                break\r\n",
    "        else:\r\n",
    "            k += 1\r\n",
    "            continue \r\n",
    "\r\n",
    "    inf = pd.DataFrame.from_dict(d, orient='index', columns=['a', 'b', 'l', 'm', 'f(l)', 'f(m)'])\r\n",
    "\r\n",
    "    xnew = np.linspace(inf['a'].min(), inf['b'].max(), 200) \r\n",
    "    ynew = [func(i) for i in xnew]\r\n",
    "\r\n",
    "    plt.plot(xnew, ynew, color='purple')\r\n",
    "    plt.plot(-0.5596215728674432, 0.4299286455148117, 'o', ms=6, color='r')\r\n",
    "    \r\n",
    "    for i in range(1, len(inf)):\r\n",
    "        x_values1 = [inf['a'][i], inf['a'][i]]\r\n",
    "        x_values2 = [inf['b'][i], inf['b'][i]]\r\n",
    "        y_values1 = [0, func(x_values1[0])]\r\n",
    "        y_values2 = [0, func(x_values2[0])]\r\n",
    "        plt.plot(x_values1, y_values1, color='orange')\r\n",
    "        plt.plot(x_values2, y_values2, color='orange')\r\n",
    "    print(inf)\r\n",
    "    return [a, b]\r\n",
    "\r\n",
    "    "
   ],
   "outputs": [],
   "metadata": {}
  },
  {
   "cell_type": "markdown",
   "source": [
    "------\r\n",
    "## Результат работы функции find_interval\r\n",
    "------"
   ],
   "metadata": {}
  },
  {
   "cell_type": "code",
   "execution_count": 27,
   "source": [
    "find_interval(a,b,e) "
   ],
   "outputs": [
    {
     "output_type": "stream",
     "name": "stdout",
     "text": [
      "           a         b         l         m      f(l)      f(m)\n",
      "1  -3.000000  2.000000 -1.090170  0.090170  1.313428  1.197400\n",
      "2  -1.090170  2.000000  0.090170  0.819660  1.197400  4.985061\n",
      "3  -1.090170  0.819660 -0.360680  0.090170  0.508823  1.197400\n",
      "4  -1.090170  0.090170 -0.639320 -0.360680  0.444571  0.508823\n",
      "5  -1.090170 -0.360680 -0.811529 -0.639320  0.593372  0.444571\n",
      "6  -0.811529 -0.360680 -0.639320 -0.532889  0.444571  0.431478\n",
      "7  -0.639320 -0.360680 -0.532889 -0.467111  0.431478  0.447851\n",
      "8  -0.639320 -0.467111 -0.573542 -0.532889  0.430358  0.431478\n",
      "9  -0.639320 -0.532889 -0.598667 -0.573542  0.433359  0.430358\n",
      "10 -0.598667 -0.532889 -0.573542 -0.558014  0.430358  0.429934\n",
      "11 -0.573542 -0.532889 -0.558014 -0.548417  0.429934  0.430203\n",
      "12 -0.573542 -0.548417 -0.563945 -0.558014  0.429970  0.429934\n",
      "13 -0.563945 -0.548417 -0.558014 -0.554349  0.429934  0.429990\n",
      "14 -0.563945 -0.554349 -0.560280 -0.558014  0.429930  0.429934\n",
      "15 -0.563945 -0.558014 -0.561679 -0.560280  0.429938  0.429930\n",
      "16 -0.561679 -0.558014 -0.560280 -0.559414  0.429930  0.429929\n",
      "17 -0.560280 -0.558014 -0.559414 -0.558880  0.429929  0.429930\n",
      "18 -0.560280 -0.558880 -0.559747 -0.559414  0.429929  0.429929\n",
      "19 -0.560280 -0.559414 -0.559947 -0.559747  0.429929  0.429929\n",
      "20 -0.559947 -0.559414 -0.559747 -0.559613  0.429929  0.429929\n",
      "21 -0.559747 -0.559414 -0.559613 -0.559547  0.429929  0.429929\n",
      "22 -0.559747 -0.559547 -0.559680 -0.559613  0.429929  0.429929\n",
      "23 -0.559680 -0.559547 -0.559613 -0.559613  0.429929  0.429929\n",
      "24 -0.559680 -0.559613 -0.559680 -0.559613  0.429929  0.429929\n",
      "25 -0.559680 -0.559613 -0.559680 -0.559580  0.429929  0.429929\n"
     ]
    },
    {
     "output_type": "execute_result",
     "data": {
      "text/plain": [
       "[-0.5596801066311229, -0.5596134621792734]"
      ]
     },
     "metadata": {},
     "execution_count": 27
    },
    {
     "output_type": "display_data",
     "data": {
      "image/png": "[encoded data removed]",
      "text/plain": [
       "<Figure size 432x288 with 1 Axes>"
      ]
     },
     "metadata": {
      "needs_background": "light"
     }
    }
   ],
   "metadata": {}
  },
  {
   "cell_type": "code",
   "execution_count": null,
   "source": [],
   "outputs": [],
   "metadata": {}
  },
  {
   "cell_type": "markdown",
   "source": [
    "### **Результат, полученный с помощью реализации алгоритма метода золотого сечения**\r\n",
    "\r\n",
    " > ### Минимум функции, равный 0.4299286455148117, достигается при x, равном -0.5596215728674432"
   ],
   "metadata": {}
  },
  {
   "cell_type": "code",
   "execution_count": null,
   "source": [],
   "outputs": [],
   "metadata": {}
  }
 ],
 "metadata": {
  "orig_nbformat": 4,
  "language_info": {
   "name": "python",
   "version": "3.8.8",
   "mimetype": "text/x-python",
   "codemirror_mode": {
    "name": "ipython",
    "version": 3
   },
   "pygments_lexer": "ipython3",
   "nbconvert_exporter": "python",
   "file_extension": ".py"
  },
  "kernelspec": {
   "name": "python3",
   "display_name": "Python 3.8.8 64-bit"
  },
  "interpreter": {
   "hash": "34ef47f5af1e4651fc1752af826ecef864f55652a5e6a13d8d7a49fc5adff9bf"
  }
 },
 "nbformat": 4,
 "nbformat_minor": 2
}