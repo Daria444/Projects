{
 "cells": [
  {
   "cell_type": "code",
   "execution_count": 9,
   "source": [
    "import numpy as np \r\n",
    "import pandas as pd \r\n",
    "import matplotlib.pyplot as plt\r\n",
    "from scipy.interpolate import make_interp_spline\r\n",
    "%matplotlib inline "
   ],
   "outputs": [],
   "metadata": {}
  },
  {
   "cell_type": "markdown",
   "source": [
    "------\r\n",
    "#### Способ №1. С помощью готовой функции min.\r\n",
    "------"
   ],
   "metadata": {}
  },
  {
   "cell_type": "code",
   "execution_count": 86,
   "source": [
    "import numpy as np \r\n",
    "import pandas as pd \r\n",
    "import matplotlib.pyplot as plt\r\n",
    "from scipy.interpolate import make_interp_spline\r\n",
    "%matplotlib inline \r\n",
    "\r\n",
    "\r\n",
    "def find_min(a, b, e, f):\r\n",
    "    lst_f = {}\r\n",
    "    i = 0\r\n",
    "    for x in np.arange(a, b + 0.5, e):\r\n",
    "        lst_f[x] = f(x)\r\n",
    "        i += 1\r\n",
    "    df = pd.DataFrame.from_dict(lst_f, orient='index', columns=['f(x)'])\r\n",
    "    print('Минимум функции достигается при х, равном {}'.format(df['f(x)'].idxmin()))\r\n",
    "\r\n",
    "    xnew = np.linspace(min(lst_f.keys()), max(lst_f.keys()), 200) \r\n",
    "    spl = make_interp_spline(list(lst_f.keys()), list(lst_f.values()), k=3)\r\n",
    "    y_smooth = spl(xnew)\r\n",
    "    plt.plot(xnew, y_smooth, color='g')\r\n",
    "    plt.plot(min(lst_f, key=lst_f.get), min(lst_f.values()), 'o', ms=8, color='orange')\r\n",
    "   \r\n",
    "        "
   ],
   "outputs": [],
   "metadata": {}
  },
  {
   "cell_type": "code",
   "execution_count": 87,
   "source": [
    "find_min(0.5, 3.5, 0.5, lambda x: x + 2/x)  "
   ],
   "outputs": [
    {
     "output_type": "stream",
     "name": "stdout",
     "text": [
      "Минимум функции достигается при х, равном 1.5\n"
     ]
    },
    {
     "output_type": "display_data",
     "data": {
      "image/png": "[encoded data removed]",
      "text/plain": [
       "<Figure size 432x288 with 1 Axes>"
      ]
     },
     "metadata": {
      "needs_background": "light"
     }
    }
   ],
   "metadata": {}
  },
  {
   "cell_type": "markdown",
   "source": [
    "------\r\n",
    "#### Способ №2. Методом сравнения значений функции на каждой итерации метода.\r\n",
    "------"
   ],
   "metadata": {}
  },
  {
   "cell_type": "code",
   "execution_count": 102,
   "source": [
    "def find_min(a, b, e, f):\r\n",
    "    min_x = a\r\n",
    "    min_f = f(a)\r\n",
    "    for x in np.arange(a, b + 0.5, e):\r\n",
    "        if f(x) <= min_f:\r\n",
    "            min_f = f(x)\r\n",
    "            min_x = x\r\n",
    "        else:\r\n",
    "            break\r\n",
    "    return 'Минимум функции достигается при х, равном {}'.format(min_x)"
   ],
   "outputs": [],
   "metadata": {}
  },
  {
   "cell_type": "code",
   "execution_count": 103,
   "source": [
    "find_min(0.5, 3.5, 0.5, lambda x: x + 2/x) "
   ],
   "outputs": [
    {
     "output_type": "execute_result",
     "data": {
      "text/plain": [
       "'Минимум функции достигается при х, равном 1.5'"
      ]
     },
     "metadata": {},
     "execution_count": 103
    }
   ],
   "metadata": {}
  },
  {
   "cell_type": "code",
   "execution_count": 95,
   "source": [
    "def f(x):  \r\n",
    "    return x + 2 / x\r\n",
    "\r\n",
    "from scipy import optimize\r\n",
    "grid = (0.5, 3.5, 0.5)\r\n",
    "xmin_global = optimize.brute(f, (grid, ))\r\n",
    "print('Минимум функции достигается при х, равном {}'.format(*list(xmin_global)))  "
   ],
   "outputs": [
    {
     "output_type": "stream",
     "name": "stdout",
     "text": [
      "Минимум функции достигается при х, равном 1.4142333984375\n"
     ]
    }
   ],
   "metadata": {}
  },
  {
   "cell_type": "code",
   "execution_count": null,
   "source": [],
   "outputs": [],
   "metadata": {}
  },
  {
   "cell_type": "code",
   "execution_count": null,
   "source": [],
   "outputs": [],
   "metadata": {}
  }
 ],
 "metadata": {
  "kernelspec": {
   "name": "python3",
   "display_name": "Python 3.8.8 64-bit"
  },
  "language_info": {
   "codemirror_mode": {
    "name": "ipython",
    "version": 3
   },
   "file_extension": ".py",
   "mimetype": "text/x-python",
   "name": "python",
   "nbconvert_exporter": "python",
   "pygments_lexer": "ipython3",
   "version": "3.8.8"
  },
  "orig_nbformat": 2,
  "interpreter": {
   "hash": "34ef47f5af1e4651fc1752af826ecef864f55652a5e6a13d8d7a49fc5adff9bf"
  }
 },
 "nbformat": 4,
 "nbformat_minor": 2
}