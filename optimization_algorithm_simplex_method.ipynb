{
 "cells": [
  {
   "cell_type": "code",
   "execution_count": 1,
   "metadata": {},
   "outputs": [],
   "source": [
    "import numpy as np "
   ]
  },
  {
   "cell_type": "code",
   "execution_count": 2,
   "metadata": {},
   "outputs": [],
   "source": [
    "def func(x): \n",
    "    return 2*x[0]**2 + 5*x[1]**2 + x[0]*x[1] - 3*x[0] - x[1] + 5"
   ]
  },
  {
   "cell_type": "code",
   "execution_count": 3,
   "metadata": {},
   "outputs": [],
   "source": [
    "a = 1\n",
    "e = 0.001\n",
    "x0 = [1, 1]"
   ]
  },
  {
   "cell_type": "code",
   "execution_count": 4,
   "metadata": {},
   "outputs": [],
   "source": [
    "def find_min(x0, e, a):\n",
    "    d1 = a * (np.sqrt(3) - 1) / (2 * np.sqrt(2))\n",
    "    d2 = a * (np.sqrt(3) + 1) / (2 * np.sqrt(2))\n",
    "    x0 = x0 \n",
    "    x1 = [x0[0] + d2, x0[1] + d1]\n",
    "    x2 = [x0[0] + d1, x0[1] + d2]\n",
    "    x_lst = [x0, x1, x2]\n",
    "\n",
    "    while True:\n",
    "        f0 = func(x_lst[0])\n",
    "        f1 = func(x_lst[1])\n",
    "        f2 = func(x_lst[2])\n",
    "        \n",
    "        f_dct = {f0 : x_lst[0], f1 : x_lst[1], f2 : x_lst[2]}\n",
    "        for i, j in zip(range(len(x_lst)), sorted(f_dct)):\n",
    "            x_lst[i] = f_dct[j]\n",
    "\n",
    "        if sum([(func(x_lst[1]) - func(x_lst[0])) ** 2, (func(x_lst[2]) - func(x_lst[0])) ** 2]) / 2 < e ** 2:\n",
    "            x_min = x_lst[0]\n",
    "            f_min = func(x_min)\n",
    "            break\n",
    "        else:\n",
    "            x_c = [(x_lst[0][0] + x_lst[1][0])/2, (x_lst[0][1] + x_lst[1][1])/2]\n",
    "            x_0 = [2*x_c[0] - x_lst[2][0], 2*x_c[1] - x_lst[2][1]]\n",
    "            \n",
    "            if func(x_0) < func(x_lst[2]):\n",
    "                x_lst[2] = x_0\n",
    "            else:\n",
    "                x_lst[1] = [(x_lst[1][0] + x_lst[0][0])/2, (x_lst[1][1] + x_lst[0][1])/2]\n",
    "                x_lst[2] = [(x_lst[2][0] + x_lst[0][0])/2, (x_lst[2][1] + x_lst[0][1])/2]\n",
    "\n",
    "    return [x_min, f_min]"
   ]
  },
  {
   "cell_type": "code",
   "execution_count": 5,
   "metadata": {},
   "outputs": [
    {
     "data": {
      "text/plain": [
       "[[0.752229498353519, 0.023025630254891995], 3.871955767610011]"
      ]
     },
     "execution_count": 5,
     "metadata": {},
     "output_type": "execute_result"
    }
   ],
   "source": [
    "find_min(x0, e, a)"
   ]
  },
  {
   "cell_type": "code",
   "execution_count": null,
   "metadata": {},
   "outputs": [],
   "source": []
  }
 ],
 "metadata": {
  "interpreter": {
   "hash": "34ef47f5af1e4651fc1752af826ecef864f55652a5e6a13d8d7a49fc5adff9bf"
  },
  "kernelspec": {
   "display_name": "Python 3.8.8 64-bit",
   "name": "python3"
  },
  "language_info": {
   "codemirror_mode": {
    "name": "ipython",
    "version": 3
   },
   "file_extension": ".py",
   "mimetype": "text/x-python",
   "name": "python",
   "nbconvert_exporter": "python",
   "pygments_lexer": "ipython3",
   "version": "3.8.8"
  },
  "orig_nbformat": 4
 },
 "nbformat": 4,
 "nbformat_minor": 2
}
