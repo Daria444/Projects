{
 "cells": [
  {
   "cell_type": "code",
   "execution_count": 12,
   "source": [
    "import numpy as np \r\n",
    "import math\r\n",
    "import pandas as pd \r\n",
    "import matplotlib.pyplot as plt\r\n",
    "from scipy.interpolate import make_interp_spline\r\n",
    "import random\r\n",
    "%matplotlib inline "
   ],
   "outputs": [],
   "metadata": {}
  },
  {
   "cell_type": "code",
   "execution_count": 13,
   "source": [
    "a = -3\r\n",
    "b = 2\r\n",
    "e = 0.0001\r\n",
    "\r\n",
    "A3 = 1\r\n",
    "A2 = 2\r\n",
    "A1 = 2\r\n",
    "A0 = 1"
   ],
   "outputs": [],
   "metadata": {}
  },
  {
   "cell_type": "code",
   "execution_count": 14,
   "source": [
    "def func(x):\r\n",
    "    return x**4 + A3*x**3 + A2*x**2 + A1*x + A0\r\n",
    "    \r\n",
    "def find_min(a, b, e):\r\n",
    "    T = (3 - math.sqrt(5))/2\r\n",
    "\r\n",
    "    x1 = a + T*(b - a)\r\n",
    "    x2 = a + b - x1\r\n",
    "    i = 0\r\n",
    "    \r\n",
    "    while True:\r\n",
    "        if i == 0:\r\n",
    "            f1 = func(x1)\r\n",
    "            f2 = func(x2)\r\n",
    "            i += 1\r\n",
    "        if f1 <= f2:\r\n",
    "            b = x2\r\n",
    "            x2 = x1\r\n",
    "            x1 = a + b - x2\r\n",
    "            f2 = f1\r\n",
    "            f1 = func(x1)\r\n",
    "        else:\r\n",
    "            a = x1\r\n",
    "            x1 = x2\r\n",
    "            x2 = a + b - x1\r\n",
    "            f1 = f2\r\n",
    "            f2 = func(x2)\r\n",
    "    \r\n",
    "        l = b - a\r\n",
    "        if l <= e:\r\n",
    "            x_min = (a + b)/2\r\n",
    "            break\r\n",
    "    print('Минимум функции, равный {}, достигается при x, равном {}'.format(func(x_min),x_min))"
   ],
   "outputs": [],
   "metadata": {}
  },
  {
   "cell_type": "markdown",
   "source": [],
   "metadata": {}
  },
  {
   "cell_type": "code",
   "execution_count": 15,
   "source": [
    "find_min(-3, 2, 0.0001) "
   ],
   "outputs": [
    {
     "output_type": "stream",
     "name": "stdout",
     "text": [
      "Минимум функции, равный 0.42992864558656807, достигается при x, равном -0.5596276971233545\n"
     ]
    }
   ],
   "metadata": {}
  },
  {
   "cell_type": "code",
   "execution_count": null,
   "source": [],
   "outputs": [],
   "metadata": {}
  },
  {
   "cell_type": "code",
   "execution_count": null,
   "source": [],
   "outputs": [],
   "metadata": {}
  },
  {
   "cell_type": "markdown",
   "source": [
    "ПРОВЕРКА"
   ],
   "metadata": {}
  },
  {
   "cell_type": "code",
   "execution_count": 16,
   "source": [
    "lst_f = []\r\n",
    "for x in np.arange(a, b, e):\r\n",
    "    lst_f.append([x, func(x)])\r\n",
    "\r\n",
    "\r\n",
    "min_p = min(lst_f, key=lambda t: t[1])\r\n",
    "print(min_p)"
   ],
   "outputs": [
    {
     "output_type": "stream",
     "name": "stdout",
     "text": [
      "[-0.55959999999485, 0.4299286465766661]\n"
     ]
    }
   ],
   "metadata": {}
  },
  {
   "cell_type": "code",
   "execution_count": null,
   "source": [],
   "outputs": [],
   "metadata": {}
  },
  {
   "cell_type": "code",
   "execution_count": 17,
   "source": [
    "a = -3\r\n",
    "b = 2"
   ],
   "outputs": [],
   "metadata": {}
  },
  {
   "cell_type": "code",
   "execution_count": 18,
   "source": [
    "xnew = np.linspace(a, b, 200) \r\n",
    "ynew = [func(i) for i in xnew]\r\n",
    "\r\n",
    "plt.plot(xnew, ynew, color='purple')\r\n",
    "\r\n",
    "plt.plot(min_p[0], min_p[1], 'o', ms=8, color='r');\r\n"
   ],
   "outputs": [
    {
     "output_type": "execute_result",
     "data": {
      "text/plain": [
       "[<matplotlib.lines.Line2D at 0x192235c2850>]"
      ]
     },
     "metadata": {},
     "execution_count": 18
    },
    {
     "output_type": "display_data",
     "data": {
      "image/png": "[encoded data removed]",
      "text/plain": [
       "<Figure size 432x288 with 1 Axes>"
      ]
     },
     "metadata": {
      "needs_background": "light"
     }
    }
   ],
   "metadata": {}
  },
  {
   "cell_type": "code",
   "execution_count": null,
   "source": [],
   "outputs": [],
   "metadata": {}
  },
  {
   "cell_type": "code",
   "execution_count": null,
   "source": [],
   "outputs": [],
   "metadata": {}
  },
  {
   "cell_type": "code",
   "execution_count": null,
   "source": [],
   "outputs": [],
   "metadata": {}
  },
  {
   "cell_type": "markdown",
   "source": [
    "СЛУЧАЙ, КОГДА ОТРЕЗОК ЛОКАЛИЗАЦИИ УНИМОДАЛЬНОЙ ФУНКЦИИ НЕИЗВЕСТЕН"
   ],
   "metadata": {}
  },
  {
   "cell_type": "markdown",
   "source": [
    "ДВУХЭТАПНАЯ ПРОЦЕДУРА ПОИСКА"
   ],
   "metadata": {}
  },
  {
   "cell_type": "code",
   "execution_count": 19,
   "source": [
    "A3 = 1\r\n",
    "A2 = 2\r\n",
    "A1 = 2\r\n",
    "A0 = 1"
   ],
   "outputs": [],
   "metadata": {}
  },
  {
   "cell_type": "markdown",
   "source": [
    "ЭТАП 1"
   ],
   "metadata": {}
  },
  {
   "cell_type": "code",
   "execution_count": 28,
   "source": [
    "def func(x):\r\n",
    "    return x**4 + A3*x**3 + A2*x**2 + A1*x + A0\r\n",
    "    \r\n",
    "def find_interval():\r\n",
    "    delta = random.uniform(0, 5)\r\n",
    "    x0 = random.uniform(-10, 10)\r\n",
    "    f0 = func(x0)\r\n",
    "    f1 = func(x0 + delta)\r\n",
    "\r\n",
    "    if f0 > f1:\r\n",
    "        a = x0\r\n",
    "        x1 = x0 + delta\r\n",
    "        f2 = f1\r\n",
    "        k = 2\r\n",
    "    else:\r\n",
    "        f = func(x0 - delta)\r\n",
    "        if f >= f0:\r\n",
    "            a = x0 - delta \r\n",
    "            b = x0 + delta\r\n",
    "            return [a, b] \r\n",
    "        else:\r\n",
    "            b = x0\r\n",
    "            x1 = x0 - delta\r\n",
    "            f2 = f\r\n",
    "            delta = -delta\r\n",
    "            k = 2\r\n",
    "\r\n",
    "    while True:\r\n",
    "        x_k = x0 + 2 ** (k-1) * delta\r\n",
    "        f_k = func(x_k)\r\n",
    "        if f2 <= f_k:\r\n",
    "            if delta > 0:\r\n",
    "                b = x_k\r\n",
    "            else:\r\n",
    "                a = x_k\r\n",
    "            break\r\n",
    "        else:\r\n",
    "            if delta > 0:\r\n",
    "                a = x1\r\n",
    "                k += 1\r\n",
    "            else:\r\n",
    "                b = x1\r\n",
    "                k += 1\r\n",
    "                \r\n",
    "    print(f'Генерируемые точки и значения функции в них равны: f({x0})={f0}, f({x0 + delta})={f1}')\r\n",
    "    print('Полученные границы интервала унимодальности функции:')\r\n",
    "    return [a, b]\r\n",
    "    "
   ],
   "outputs": [],
   "metadata": {}
  },
  {
   "cell_type": "code",
   "execution_count": 29,
   "source": [
    "find_interval()"
   ],
   "outputs": [
    {
     "output_type": "stream",
     "name": "stdout",
     "text": [
      "Генерируемые точки и значения функции в них равны: f(6.586495678339187)=2268.663150179397, f(4.588687168035452)=6228.386061876143\n",
      "Полученные границы интервала унимодальности функции:\n"
     ]
    },
    {
     "output_type": "execute_result",
     "data": {
      "text/plain": [
       "[-9.395972404090685, 4.588687168035452]"
      ]
     },
     "metadata": {},
     "execution_count": 29
    }
   ],
   "metadata": {}
  },
  {
   "cell_type": "markdown",
   "source": [
    "ЭТАП 2"
   ],
   "metadata": {}
  },
  {
   "cell_type": "code",
   "execution_count": 22,
   "source": [
    "e = 0.0001\r\n",
    "a = find_interval()[0]\r\n",
    "b = find_interval()[1]"
   ],
   "outputs": [
    {
     "output_type": "stream",
     "name": "stdout",
     "text": [
      "Генерируемые точки и значения функции в них равны: f(5.2052672239578115)=940.7644178228793, f(1.1520654470618155)=8332.373955877127\n",
      "Полученные границы отрезка локализации минимума унимодальной функции:\n"
     ]
    }
   ],
   "metadata": {}
  },
  {
   "cell_type": "code",
   "execution_count": 23,
   "source": [
    "def find_min(a, b):\r\n",
    "    \r\n",
    "    T = (3 - math.sqrt(5))/2\r\n",
    "\r\n",
    "    x1 = a + T*(b - a)\r\n",
    "    x2 = a + b - x1\r\n",
    "\r\n",
    "    n = 0\r\n",
    "    d = {}\r\n",
    "    i = 1\r\n",
    "\r\n",
    "    while True:\r\n",
    "        \r\n",
    "        if n == 0:\r\n",
    "            f1 = func(x1)\r\n",
    "            f2 = func(x2)\r\n",
    "            n += 1\r\n",
    "\r\n",
    "        d[i] = [a, b, x1, x2, f1, f2]\r\n",
    "        i += 1\r\n",
    "\r\n",
    "        if f1 <= f2:\r\n",
    "            b = x2\r\n",
    "            x2 = x1\r\n",
    "            x1 = a + b - x2\r\n",
    "            f2 = f1\r\n",
    "            f1 = func(x1)\r\n",
    "        else:\r\n",
    "            a = x1\r\n",
    "            x1 = x2\r\n",
    "            x2 = a + b - x1\r\n",
    "            f1 = f2\r\n",
    "            f2 = func(x2)\r\n",
    "    \r\n",
    "        l = b - a\r\n",
    "        if l <= e:\r\n",
    "            x_min = (a + b)/2\r\n",
    "            break\r\n",
    "    inf = pd.DataFrame.from_dict(d, orient='index', columns=['a', 'b', 'x1', 'x2', 'f(x1)', 'f(x2)'])\r\n",
    "    fmin, xmin, it = func(x_min), x_min, inf.shape[0]   \r\n",
    "    print(inf)\r\n",
    "    print(f'Минимум функции, равный {fmin}, достигается при x, равном {xmin}. Количество итераций, обеспечившее получение требуемой точности равно {it}.')\r\n",
    "\r\n",
    "    xnew = np.linspace(inf['a'].min(),inf['b'].max(), 200) \r\n",
    "    ynew = [func(i) for i in xnew]\r\n",
    "\r\n",
    "    plt.plot(xnew, ynew, color='purple')\r\n",
    "\r\n",
    "    plt.plot(xmin, fmin, 'o', ms=6, color='r')\r\n",
    "\r\n",
    "    for i in range(1, len(inf)):\r\n",
    "        x_values1 = [inf['a'][i], inf['a'][i]]\r\n",
    "        x_values2 = [inf['b'][i], inf['b'][i]]\r\n",
    "        y_values1 = [0, func(x_values1[0])]\r\n",
    "        y_values2 = [0, func(x_values2[0])]\r\n",
    "        plt.plot(x_values1, y_values1, color='orange')\r\n",
    "        plt.plot(x_values2, y_values2, color='orange')\r\n",
    "        \r\n",
    "    plt.figure(figsize=(10, 15))\r\n",
    "\r\n",
    "    "
   ],
   "outputs": [],
   "metadata": {}
  },
  {
   "cell_type": "code",
   "execution_count": 24,
   "source": [
    "find_min(a, b) "
   ],
   "outputs": [
    {
     "output_type": "stream",
     "name": "stdout",
     "text": [
      "           a         b        x1        x2     f(x1)     f(x2)\n",
      "1  -2.901136  2.162341 -0.967060  0.228265  0.906499  1.575348\n",
      "2  -2.901136  0.228265 -1.705811 -0.967060  6.911298  0.906499\n",
      "3  -1.705811  0.228265 -0.967060 -0.510487  0.906499  0.435099\n",
      "4  -0.967060  0.228265 -0.510487 -0.228309  0.435099  0.638449\n",
      "5  -0.967060 -0.228309 -0.684882 -0.510487  0.467130  0.435099\n",
      "6  -0.684882 -0.228309 -0.510487 -0.402704  0.435099  0.479925\n",
      "7  -0.684882 -0.402704 -0.577100 -0.510487  0.430607  0.435099\n",
      "8  -0.684882 -0.510487 -0.618269 -0.577100  0.437758  0.430607\n",
      "9  -0.618269 -0.510487 -0.577100 -0.551656  0.430607  0.430068\n",
      "10 -0.577100 -0.510487 -0.551656 -0.535930  0.430068  0.431147\n",
      "11 -0.577100 -0.535930 -0.561374 -0.551656  0.429935  0.430068\n",
      "12 -0.577100 -0.551656 -0.567381 -0.561374  0.430062  0.429935\n",
      "13 -0.567381 -0.551656 -0.561374 -0.557662  0.429935  0.429937\n",
      "14 -0.567381 -0.557662 -0.563669 -0.561374  0.429965  0.429935\n",
      "15 -0.563669 -0.557662 -0.561374 -0.559957  0.429935  0.429929\n",
      "16 -0.561374 -0.557662 -0.559957 -0.559080  0.429929  0.429929\n",
      "17 -0.561374 -0.559080 -0.560498 -0.559957  0.429930  0.429929\n",
      "18 -0.560498 -0.559080 -0.559957 -0.559622  0.429929  0.429929\n",
      "19 -0.559957 -0.559080 -0.559622 -0.559415  0.429929  0.429929\n",
      "20 -0.559957 -0.559415 -0.559750 -0.559622  0.429929  0.429929\n",
      "21 -0.559750 -0.559415 -0.559622 -0.559543  0.429929  0.429929\n",
      "22 -0.559750 -0.559543 -0.559671 -0.559622  0.429929  0.429929\n",
      "23 -0.559671 -0.559543 -0.559622 -0.559592  0.429929  0.429929\n",
      "Минимум функции, равный 0.42992864569844036, достигается при x, равном -0.559631116703478. Количество итераций, обеспечившее получение требуемой точности равно 23.\n"
     ]
    },
    {
     "output_type": "display_data",
     "data": {
      "image/png": "[encoded data removed]",
      "text/plain": [
       "<Figure size 432x288 with 1 Axes>"
      ]
     },
     "metadata": {
      "needs_background": "light"
     }
    },
    {
     "output_type": "display_data",
     "data": {
      "text/plain": [
       "<Figure size 720x1080 with 0 Axes>"
      ]
     },
     "metadata": {}
    }
   ],
   "metadata": {}
  },
  {
   "cell_type": "code",
   "execution_count": null,
   "source": [],
   "outputs": [],
   "metadata": {}
  }
 ],
 "metadata": {
  "orig_nbformat": 4,
  "language_info": {
   "name": "python",
   "version": "3.8.8",
   "mimetype": "text/x-python",
   "codemirror_mode": {
    "name": "ipython",
    "version": 3
   },
   "pygments_lexer": "ipython3",
   "nbconvert_exporter": "python",
   "file_extension": ".py"
  },
  "kernelspec": {
   "name": "python3",
   "display_name": "Python 3.8.8 64-bit"
  },
  "interpreter": {
   "hash": "34ef47f5af1e4651fc1752af826ecef864f55652a5e6a13d8d7a49fc5adff9bf"
  }
 },
 "nbformat": 4,
 "nbformat_minor": 2
}